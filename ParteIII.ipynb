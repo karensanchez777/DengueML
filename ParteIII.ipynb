{
 "cells": [
  {
   "cell_type": "markdown",
   "metadata": {},
   "source": [
    "# PARTE III: Preparación de los datos climatológicos"
   ]
  },
  {
   "cell_type": "code",
   "execution_count": 1,
   "metadata": {},
   "outputs": [],
   "source": [
    "from bs4 import BeautifulSoup \n",
    "import requests "
   ]
  },
  {
   "cell_type": "markdown",
   "metadata": {},
   "source": [
    "Exportamos los datos de la página del GHCN y los guardamos en la lista `lista_de_datos`"
   ]
  },
  {
   "cell_type": "code",
   "execution_count": 3,
   "metadata": {},
   "outputs": [],
   "source": [
    "url_page='https://www.ncei.noaa.gov/data/global-historical-climatology-network-daily/access/'"
   ]
  },
  {
   "cell_type": "code",
   "execution_count": 4,
   "metadata": {},
   "outputs": [],
   "source": [
    "page=requests.get(url_page).text\n",
    "soup=BeautifulSoup(page)"
   ]
  },
  {
   "cell_type": "code",
   "execution_count": 5,
   "metadata": {},
   "outputs": [],
   "source": [
    "links = [link.get('href') for link in soup.find_all('a') \n",
    "                          if 'MXN00014' in link.get('href')]"
   ]
  },
  {
   "cell_type": "code",
   "execution_count": 6,
   "metadata": {},
   "outputs": [
    {
     "data": {
      "text/plain": [
       "251"
      ]
     },
     "execution_count": 6,
     "metadata": {},
     "output_type": "execute_result"
    }
   ],
   "source": [
    "len(links)"
   ]
  },
  {
   "cell_type": "code",
   "execution_count": 7,
   "metadata": {},
   "outputs": [],
   "source": [
    "import io \n",
    "import pandas as pd"
   ]
  },
  {
   "cell_type": "markdown",
   "metadata": {},
   "source": [
    "La siguiente celda tarda en ejecutarse de 10 a 20 minutos."
   ]
  },
  {
   "cell_type": "code",
   "execution_count": 8,
   "metadata": {},
   "outputs": [],
   "source": [
    "lista_de_datos=[]\n",
    "for link in links:\n",
    "    url = url_page + link\n",
    "    s= requests.get(url).content\n",
    "    datos=pd.read_csv(io.StringIO(s.decode('utf-8')), header=0, index_col=1)\n",
    "    lista_de_datos.append(datos)"
   ]
  },
  {
   "cell_type": "markdown",
   "metadata": {},
   "source": [
    "Definimos la función `datos_2010(n)` que tiene como parámetro el número de la estación n y nos devuelve el número de registros del año 2010, el periodo que abarcó la captura de datos y el promedio de precipitación, temperatura máxima y mínima del año 2010. Evitamos trabajar con décimas (así vienen de la página del GHCN), por lo que dividimos entre 10 los promedios. "
   ]
  },
  {
   "cell_type": "code",
   "execution_count": 9,
   "metadata": {},
   "outputs": [],
   "source": [
    "def datos_2010(n):\n",
    "    primer_dia=lista_de_datos[n].index[0]\n",
    "    ultimo_dia=lista_de_datos[n].index[-1]\n",
    "    datos_2010=0\n",
    "    for date in lista_de_datos[n].loc[primer_dia:ultimo_dia].index:\n",
    "        if '2010-12-31'>=date>='2010-01-01' :\n",
    "            datos_2010+=1\n",
    "    \n",
    "    datos_meteorologicos=lista_de_datos[n].loc['2010-01-01':'2010-12-31',['PRCP','TMAX','TMIN']].mean()/10\n",
    "    \n",
    "    estacion_nombre=lista_de_datos[n].loc[primer_dia,['STATION','NAME']]\n",
    "    return datos_2010, datos_meteorologicos, primer_dia, ultimo_dia, estacion_nombre\n"
   ]
  },
  {
   "cell_type": "markdown",
   "metadata": {},
   "source": [
    "Explorando los datos de las estaciones, encontramos que se dividen en 3 tipos: \n",
    "1. las que cuentan con todos los registros del año 2010\n",
    "2. las que no tienen ningún registro del año 2010\n",
    "3. las que tienen registros de algunos días del año 2010\n",
    "\n",
    "A continuación mostramos cómo registramos los datos para cualquier tipo de municipio\n",
    "\n",
    "## 1. Estaciones que cuentan con registros de todos los días del año 2010\n",
    "\n",
    "Como no tienen ningún dato faltante del año 2010, simplemente se asigna el promedio anual de precipitación temperatura máxima y temperatura mínima del año 2010. \n",
    "### Ejemplo\n",
    "Este es el caso de Atoyac"
   ]
  },
  {
   "cell_type": "code",
   "execution_count": 10,
   "metadata": {},
   "outputs": [
    {
     "data": {
      "text/plain": [
       "(365,\n",
       " PRCP     2.301370\n",
       " TMAX    30.070959\n",
       " TMIN    12.045753\n",
       " dtype: float64,\n",
       " '1943-08-01',\n",
       " '2012-01-31',\n",
       " STATION    MXN00014018\n",
       " NAME        ATOYAC, MX\n",
       " Name: 1943-08-01, dtype: object)"
      ]
     },
     "execution_count": 10,
     "metadata": {},
     "output_type": "execute_result"
    }
   ],
   "source": [
    "datos_2010(16)"
   ]
  },
  {
   "cell_type": "markdown",
   "metadata": {},
   "source": [
    "## 2.  Estaciones que no tienen ningún registro del año 2010\n",
    "\n",
    "Le asignamos los valores climáticos de una estación cercana. Calculamos las geodésicas de dos puntos sobre la Tierra determinados por su latitud y longitud con la librería geopy que, por cierto, no soporta trabajar con altitudes diferentes. Escribimos la función `k_estaciones_cercanas(p1,k)` que encuentra k estaciones cercanas a dicho municipio. Sus parametros: longitud, latitud, altitud (que determinan el punto sobre la Tierra p1) y el número k.  "
   ]
  },
  {
   "cell_type": "code",
   "execution_count": 11,
   "metadata": {},
   "outputs": [],
   "source": [
    "def k_estaciones_cercanas(p1,k):\n",
    "    p1_lat_lon=geopy.point.Point(p1[[0,1]])\n",
    "    distancias=[]\n",
    "    for i in range(251):\n",
    "        p2=geopy.point.Point(X[i,[0,1]])\n",
    "        distancia=geopy.distance.geodesic(p1_lat_lon, p2).km\n",
    "        distancias.append(distancia)\n",
    "    distancias=np.array(distancias)\n",
    "    k_estaciones_cercanas_ind=distancias.argsort()[:k]\n",
    "    \n",
    "    delta_alts=[]\n",
    "    for i in list(k_estaciones_cercanas_ind):\n",
    "        delta_alt=np.abs(p1[2]-X[i,2])\n",
    "        delta_alts.append(delta_alt)\n",
    "    delta_alts=np.array(delta_alts)\n",
    "    delta_alts_ind=delta_alts.argsort()[:k]\n",
    "    k_estaciones_cercanas_ind=list(k_estaciones_cercanas_ind)\n",
    "    delta_alts_ind=list(delta_alts_ind)\n",
    "    k_estaciones_cercanas_ordenadas=[]\n",
    "    for i in delta_alts_ind:\n",
    "        k_estaciones_cercanas_ordenadas.append(k_estaciones_cercanas_ind[i])\n",
    "        \n",
    "    return k_estaciones_cercanas_ordenadas"
   ]
  },
  {
   "cell_type": "markdown",
   "metadata": {},
   "source": [
    "### Ejemplo\n",
    "Acatic es un municipio cuya estación no tiene ningún registro del año 2010"
   ]
  },
  {
   "cell_type": "code",
   "execution_count": 12,
   "metadata": {},
   "outputs": [
    {
     "data": {
      "text/plain": [
       "(0,\n",
       " PRCP   NaN\n",
       " TMAX   NaN\n",
       " TMIN   NaN\n",
       " dtype: float64,\n",
       " '1961-01-01',\n",
       " '1973-12-31',\n",
       " STATION       MXN00014001\n",
       " NAME       ACATIC SMN, MX\n",
       " Name: 1961-01-01, dtype: object)"
      ]
     },
     "execution_count": 12,
     "metadata": {},
     "output_type": "execute_result"
    }
   ],
   "source": [
    "datos_2010(0)"
   ]
  },
  {
   "cell_type": "markdown",
   "metadata": {},
   "source": [
    "## Estaciones meteorológicas"
   ]
  },
  {
   "cell_type": "code",
   "execution_count": 13,
   "metadata": {},
   "outputs": [],
   "source": [
    "import geopy"
   ]
  },
  {
   "cell_type": "code",
   "execution_count": 14,
   "metadata": {},
   "outputs": [],
   "source": [
    "from geopy import distance"
   ]
  },
  {
   "cell_type": "code",
   "execution_count": 15,
   "metadata": {},
   "outputs": [],
   "source": [
    "import numpy as np"
   ]
  },
  {
   "cell_type": "code",
   "execution_count": 16,
   "metadata": {},
   "outputs": [],
   "source": [
    "stations=pd.read_fwf('datos/ghcnd-stations.txt', header=None) # informacion de las estaciones: "
   ]
  },
  {
   "cell_type": "code",
   "execution_count": 17,
   "metadata": {},
   "outputs": [],
   "source": [
    "stations.columns=['station ID','latitude', 'longitude', 'elevation', 'State','a','b','c']"
   ]
  },
  {
   "cell_type": "code",
   "execution_count": 18,
   "metadata": {},
   "outputs": [
    {
     "data": {
      "text/html": [
       "<div>\n",
       "<style scoped>\n",
       "    .dataframe tbody tr th:only-of-type {\n",
       "        vertical-align: middle;\n",
       "    }\n",
       "\n",
       "    .dataframe tbody tr th {\n",
       "        vertical-align: top;\n",
       "    }\n",
       "\n",
       "    .dataframe thead th {\n",
       "        text-align: right;\n",
       "    }\n",
       "</style>\n",
       "<table border=\"1\" class=\"dataframe\">\n",
       "  <thead>\n",
       "    <tr style=\"text-align: right;\">\n",
       "      <th></th>\n",
       "      <th>station ID</th>\n",
       "      <th>latitude</th>\n",
       "      <th>longitude</th>\n",
       "      <th>elevation</th>\n",
       "      <th>State</th>\n",
       "      <th>a</th>\n",
       "      <th>b</th>\n",
       "      <th>c</th>\n",
       "    </tr>\n",
       "  </thead>\n",
       "  <tbody>\n",
       "    <tr>\n",
       "      <th>42682</th>\n",
       "      <td>MXN00014001</td>\n",
       "      <td>20.7833</td>\n",
       "      <td>102.9167</td>\n",
       "      <td>1677.9</td>\n",
       "      <td>ACATIC (SMN)</td>\n",
       "      <td>NaN</td>\n",
       "      <td>NaN</td>\n",
       "      <td>NaN</td>\n",
       "    </tr>\n",
       "    <tr>\n",
       "      <th>42683</th>\n",
       "      <td>MXN00014002</td>\n",
       "      <td>20.4167</td>\n",
       "      <td>103.5833</td>\n",
       "      <td>1369.8</td>\n",
       "      <td>ACATLAN DE JUAREZ</td>\n",
       "      <td>NaN</td>\n",
       "      <td>NaN</td>\n",
       "      <td>NaN</td>\n",
       "    </tr>\n",
       "    <tr>\n",
       "      <th>42684</th>\n",
       "      <td>MXN00014004</td>\n",
       "      <td>21.3500</td>\n",
       "      <td>102.3333</td>\n",
       "      <td>1809.9</td>\n",
       "      <td>AGOSTADERO</td>\n",
       "      <td>NaN</td>\n",
       "      <td>NaN</td>\n",
       "      <td>NaN</td>\n",
       "    </tr>\n",
       "    <tr>\n",
       "      <th>42685</th>\n",
       "      <td>MXN00014005</td>\n",
       "      <td>19.0833</td>\n",
       "      <td>103.1000</td>\n",
       "      <td>819.9</td>\n",
       "      <td>AHUIJULLO</td>\n",
       "      <td>NaN</td>\n",
       "      <td>NaN</td>\n",
       "      <td>NaN</td>\n",
       "    </tr>\n",
       "    <tr>\n",
       "      <th>42686</th>\n",
       "      <td>MXN00014006</td>\n",
       "      <td>21.5500</td>\n",
       "      <td>102.4333</td>\n",
       "      <td>1745.0</td>\n",
       "      <td>AJOJUCAR</td>\n",
       "      <td>NaN</td>\n",
       "      <td>NaN</td>\n",
       "      <td>NaN</td>\n",
       "    </tr>\n",
       "    <tr>\n",
       "      <th>...</th>\n",
       "      <td>...</td>\n",
       "      <td>...</td>\n",
       "      <td>...</td>\n",
       "      <td>...</td>\n",
       "      <td>...</td>\n",
       "      <td>...</td>\n",
       "      <td>...</td>\n",
       "      <td>...</td>\n",
       "    </tr>\n",
       "    <tr>\n",
       "      <th>42928</th>\n",
       "      <td>MXN00014391</td>\n",
       "      <td>20.0500</td>\n",
       "      <td>103.1000</td>\n",
       "      <td>1889.8</td>\n",
       "      <td>PRESA EL VOLANTIN</td>\n",
       "      <td>NaN</td>\n",
       "      <td>NaN</td>\n",
       "      <td>NaN</td>\n",
       "    </tr>\n",
       "    <tr>\n",
       "      <th>42929</th>\n",
       "      <td>MXN00014392</td>\n",
       "      <td>21.4833</td>\n",
       "      <td>101.7500</td>\n",
       "      <td>1998.0</td>\n",
       "      <td>PASO DEL CUARENTA II</td>\n",
       "      <td>NaN</td>\n",
       "      <td>NaN</td>\n",
       "      <td>NaN</td>\n",
       "    </tr>\n",
       "    <tr>\n",
       "      <th>42930</th>\n",
       "      <td>MXN00014395</td>\n",
       "      <td>19.9833</td>\n",
       "      <td>104.1833</td>\n",
       "      <td>1460.0</td>\n",
       "      <td>IXTLAHUACAN DE SANTIAGO</td>\n",
       "      <td>NaN</td>\n",
       "      <td>NaN</td>\n",
       "      <td>NaN</td>\n",
       "    </tr>\n",
       "    <tr>\n",
       "      <th>42931</th>\n",
       "      <td>MXN00014396</td>\n",
       "      <td>20.2667</td>\n",
       "      <td>103.4167</td>\n",
       "      <td>1529.8</td>\n",
       "      <td>PIEDRA BARRENADA</td>\n",
       "      <td>NaN</td>\n",
       "      <td>NaN</td>\n",
       "      <td>NaN</td>\n",
       "    </tr>\n",
       "    <tr>\n",
       "      <th>42932</th>\n",
       "      <td>MXN00014397</td>\n",
       "      <td>20.6833</td>\n",
       "      <td>102.9500</td>\n",
       "      <td>1619.7</td>\n",
       "      <td>PRESA CALDERON</td>\n",
       "      <td>NaN</td>\n",
       "      <td>NaN</td>\n",
       "      <td>NaN</td>\n",
       "    </tr>\n",
       "  </tbody>\n",
       "</table>\n",
       "<p>251 rows × 8 columns</p>\n",
       "</div>"
      ],
      "text/plain": [
       "        station ID  latitude  longitude  elevation                    State  \\\n",
       "42682  MXN00014001   20.7833   102.9167     1677.9             ACATIC (SMN)   \n",
       "42683  MXN00014002   20.4167   103.5833     1369.8        ACATLAN DE JUAREZ   \n",
       "42684  MXN00014004   21.3500   102.3333     1809.9               AGOSTADERO   \n",
       "42685  MXN00014005   19.0833   103.1000      819.9                AHUIJULLO   \n",
       "42686  MXN00014006   21.5500   102.4333     1745.0                 AJOJUCAR   \n",
       "...            ...       ...        ...        ...                      ...   \n",
       "42928  MXN00014391   20.0500   103.1000     1889.8        PRESA EL VOLANTIN   \n",
       "42929  MXN00014392   21.4833   101.7500     1998.0     PASO DEL CUARENTA II   \n",
       "42930  MXN00014395   19.9833   104.1833     1460.0  IXTLAHUACAN DE SANTIAGO   \n",
       "42931  MXN00014396   20.2667   103.4167     1529.8         PIEDRA BARRENADA   \n",
       "42932  MXN00014397   20.6833   102.9500     1619.7           PRESA CALDERON   \n",
       "\n",
       "         a    b   c  \n",
       "42682  NaN  NaN NaN  \n",
       "42683  NaN  NaN NaN  \n",
       "42684  NaN  NaN NaN  \n",
       "42685  NaN  NaN NaN  \n",
       "42686  NaN  NaN NaN  \n",
       "...    ...  ...  ..  \n",
       "42928  NaN  NaN NaN  \n",
       "42929  NaN  NaN NaN  \n",
       "42930  NaN  NaN NaN  \n",
       "42931  NaN  NaN NaN  \n",
       "42932  NaN  NaN NaN  \n",
       "\n",
       "[251 rows x 8 columns]"
      ]
     },
     "execution_count": 18,
     "metadata": {},
     "output_type": "execute_result"
    }
   ],
   "source": [
    "stations.loc[42682:42932]"
   ]
  },
  {
   "cell_type": "code",
   "execution_count": 19,
   "metadata": {},
   "outputs": [],
   "source": [
    "stations.drop(['a','b','c'], axis=1, inplace=True)"
   ]
  },
  {
   "cell_type": "code",
   "execution_count": 20,
   "metadata": {},
   "outputs": [],
   "source": [
    "stations.drop(stations.loc[:42681].index, axis=0, inplace=True)"
   ]
  },
  {
   "cell_type": "code",
   "execution_count": 21,
   "metadata": {},
   "outputs": [],
   "source": [
    "stations.drop(stations.loc[42933:].index, axis=0, inplace=True)"
   ]
  },
  {
   "cell_type": "code",
   "execution_count": 22,
   "metadata": {},
   "outputs": [],
   "source": [
    "stations.reset_index(drop=True, inplace=True)"
   ]
  },
  {
   "cell_type": "code",
   "execution_count": 23,
   "metadata": {},
   "outputs": [
    {
     "data": {
      "text/html": [
       "<div>\n",
       "<style scoped>\n",
       "    .dataframe tbody tr th:only-of-type {\n",
       "        vertical-align: middle;\n",
       "    }\n",
       "\n",
       "    .dataframe tbody tr th {\n",
       "        vertical-align: top;\n",
       "    }\n",
       "\n",
       "    .dataframe thead th {\n",
       "        text-align: right;\n",
       "    }\n",
       "</style>\n",
       "<table border=\"1\" class=\"dataframe\">\n",
       "  <thead>\n",
       "    <tr style=\"text-align: right;\">\n",
       "      <th></th>\n",
       "      <th>station ID</th>\n",
       "      <th>latitude</th>\n",
       "      <th>longitude</th>\n",
       "      <th>elevation</th>\n",
       "      <th>State</th>\n",
       "    </tr>\n",
       "  </thead>\n",
       "  <tbody>\n",
       "    <tr>\n",
       "      <th>0</th>\n",
       "      <td>MXN00014001</td>\n",
       "      <td>20.7833</td>\n",
       "      <td>102.9167</td>\n",
       "      <td>1677.9</td>\n",
       "      <td>ACATIC (SMN)</td>\n",
       "    </tr>\n",
       "    <tr>\n",
       "      <th>1</th>\n",
       "      <td>MXN00014002</td>\n",
       "      <td>20.4167</td>\n",
       "      <td>103.5833</td>\n",
       "      <td>1369.8</td>\n",
       "      <td>ACATLAN DE JUAREZ</td>\n",
       "    </tr>\n",
       "    <tr>\n",
       "      <th>2</th>\n",
       "      <td>MXN00014004</td>\n",
       "      <td>21.3500</td>\n",
       "      <td>102.3333</td>\n",
       "      <td>1809.9</td>\n",
       "      <td>AGOSTADERO</td>\n",
       "    </tr>\n",
       "    <tr>\n",
       "      <th>3</th>\n",
       "      <td>MXN00014005</td>\n",
       "      <td>19.0833</td>\n",
       "      <td>103.1000</td>\n",
       "      <td>819.9</td>\n",
       "      <td>AHUIJULLO</td>\n",
       "    </tr>\n",
       "    <tr>\n",
       "      <th>4</th>\n",
       "      <td>MXN00014006</td>\n",
       "      <td>21.5500</td>\n",
       "      <td>102.4333</td>\n",
       "      <td>1745.0</td>\n",
       "      <td>AJOJUCAR</td>\n",
       "    </tr>\n",
       "    <tr>\n",
       "      <th>...</th>\n",
       "      <td>...</td>\n",
       "      <td>...</td>\n",
       "      <td>...</td>\n",
       "      <td>...</td>\n",
       "      <td>...</td>\n",
       "    </tr>\n",
       "    <tr>\n",
       "      <th>246</th>\n",
       "      <td>MXN00014391</td>\n",
       "      <td>20.0500</td>\n",
       "      <td>103.1000</td>\n",
       "      <td>1889.8</td>\n",
       "      <td>PRESA EL VOLANTIN</td>\n",
       "    </tr>\n",
       "    <tr>\n",
       "      <th>247</th>\n",
       "      <td>MXN00014392</td>\n",
       "      <td>21.4833</td>\n",
       "      <td>101.7500</td>\n",
       "      <td>1998.0</td>\n",
       "      <td>PASO DEL CUARENTA II</td>\n",
       "    </tr>\n",
       "    <tr>\n",
       "      <th>248</th>\n",
       "      <td>MXN00014395</td>\n",
       "      <td>19.9833</td>\n",
       "      <td>104.1833</td>\n",
       "      <td>1460.0</td>\n",
       "      <td>IXTLAHUACAN DE SANTIAGO</td>\n",
       "    </tr>\n",
       "    <tr>\n",
       "      <th>249</th>\n",
       "      <td>MXN00014396</td>\n",
       "      <td>20.2667</td>\n",
       "      <td>103.4167</td>\n",
       "      <td>1529.8</td>\n",
       "      <td>PIEDRA BARRENADA</td>\n",
       "    </tr>\n",
       "    <tr>\n",
       "      <th>250</th>\n",
       "      <td>MXN00014397</td>\n",
       "      <td>20.6833</td>\n",
       "      <td>102.9500</td>\n",
       "      <td>1619.7</td>\n",
       "      <td>PRESA CALDERON</td>\n",
       "    </tr>\n",
       "  </tbody>\n",
       "</table>\n",
       "<p>251 rows × 5 columns</p>\n",
       "</div>"
      ],
      "text/plain": [
       "      station ID  latitude  longitude  elevation                    State\n",
       "0    MXN00014001   20.7833   102.9167     1677.9             ACATIC (SMN)\n",
       "1    MXN00014002   20.4167   103.5833     1369.8        ACATLAN DE JUAREZ\n",
       "2    MXN00014004   21.3500   102.3333     1809.9               AGOSTADERO\n",
       "3    MXN00014005   19.0833   103.1000      819.9                AHUIJULLO\n",
       "4    MXN00014006   21.5500   102.4333     1745.0                 AJOJUCAR\n",
       "..           ...       ...        ...        ...                      ...\n",
       "246  MXN00014391   20.0500   103.1000     1889.8        PRESA EL VOLANTIN\n",
       "247  MXN00014392   21.4833   101.7500     1998.0     PASO DEL CUARENTA II\n",
       "248  MXN00014395   19.9833   104.1833     1460.0  IXTLAHUACAN DE SANTIAGO\n",
       "249  MXN00014396   20.2667   103.4167     1529.8         PIEDRA BARRENADA\n",
       "250  MXN00014397   20.6833   102.9500     1619.7           PRESA CALDERON\n",
       "\n",
       "[251 rows x 5 columns]"
      ]
     },
     "execution_count": 23,
     "metadata": {},
     "output_type": "execute_result"
    }
   ],
   "source": [
    "stations"
   ]
  },
  {
   "cell_type": "code",
   "execution_count": 24,
   "metadata": {},
   "outputs": [],
   "source": [
    "X=np.array(stations[['latitude','longitude','elevation']]) #solo necesitamos esta información de las estaciones"
   ]
  },
  {
   "cell_type": "markdown",
   "metadata": {},
   "source": [
    "### Regresando al ejemplo de Acatic"
   ]
  },
  {
   "cell_type": "code",
   "execution_count": 25,
   "metadata": {},
   "outputs": [
    {
     "data": {
      "text/plain": [
       "[0, 196, 96, 250, 81]"
      ]
     },
     "execution_count": 25,
     "metadata": {},
     "output_type": "execute_result"
    }
   ],
   "source": [
    "k_estaciones_cercanas(X[0,:],5)"
   ]
  },
  {
   "cell_type": "code",
   "execution_count": 26,
   "metadata": {},
   "outputs": [
    {
     "data": {
      "text/html": [
       "<div>\n",
       "<style scoped>\n",
       "    .dataframe tbody tr th:only-of-type {\n",
       "        vertical-align: middle;\n",
       "    }\n",
       "\n",
       "    .dataframe tbody tr th {\n",
       "        vertical-align: top;\n",
       "    }\n",
       "\n",
       "    .dataframe thead th {\n",
       "        text-align: right;\n",
       "    }\n",
       "</style>\n",
       "<table border=\"1\" class=\"dataframe\">\n",
       "  <thead>\n",
       "    <tr style=\"text-align: right;\">\n",
       "      <th></th>\n",
       "      <th>station ID</th>\n",
       "      <th>latitude</th>\n",
       "      <th>longitude</th>\n",
       "      <th>elevation</th>\n",
       "      <th>State</th>\n",
       "    </tr>\n",
       "  </thead>\n",
       "  <tbody>\n",
       "    <tr>\n",
       "      <th>0</th>\n",
       "      <td>MXN00014001</td>\n",
       "      <td>20.7833</td>\n",
       "      <td>102.9167</td>\n",
       "      <td>1677.9</td>\n",
       "      <td>ACATIC (SMN)</td>\n",
       "    </tr>\n",
       "    <tr>\n",
       "      <th>196</th>\n",
       "      <td>MXN00014307</td>\n",
       "      <td>20.7667</td>\n",
       "      <td>102.9000</td>\n",
       "      <td>1679.8</td>\n",
       "      <td>ACATIC (DGE)</td>\n",
       "    </tr>\n",
       "    <tr>\n",
       "      <th>96</th>\n",
       "      <td>MXN00014104</td>\n",
       "      <td>20.6333</td>\n",
       "      <td>102.9500</td>\n",
       "      <td>1729.7</td>\n",
       "      <td>PALO VERDE</td>\n",
       "    </tr>\n",
       "    <tr>\n",
       "      <th>250</th>\n",
       "      <td>MXN00014397</td>\n",
       "      <td>20.6833</td>\n",
       "      <td>102.9500</td>\n",
       "      <td>1619.7</td>\n",
       "      <td>PRESA CALDERON</td>\n",
       "    </tr>\n",
       "    <tr>\n",
       "      <th>81</th>\n",
       "      <td>MXN00014087</td>\n",
       "      <td>20.7167</td>\n",
       "      <td>102.8000</td>\n",
       "      <td>1773.9</td>\n",
       "      <td>LA RED</td>\n",
       "    </tr>\n",
       "  </tbody>\n",
       "</table>\n",
       "</div>"
      ],
      "text/plain": [
       "      station ID  latitude  longitude  elevation           State\n",
       "0    MXN00014001   20.7833   102.9167     1677.9    ACATIC (SMN)\n",
       "196  MXN00014307   20.7667   102.9000     1679.8    ACATIC (DGE)\n",
       "96   MXN00014104   20.6333   102.9500     1729.7      PALO VERDE\n",
       "250  MXN00014397   20.6833   102.9500     1619.7  PRESA CALDERON\n",
       "81   MXN00014087   20.7167   102.8000     1773.9          LA RED"
      ]
     },
     "execution_count": 26,
     "metadata": {},
     "output_type": "execute_result"
    }
   ],
   "source": [
    "stations.loc[[0, 196, 96, 250, 81]]"
   ]
  },
  {
   "cell_type": "markdown",
   "metadata": {},
   "source": [
    "La estación más cercana con datos es la de Palo Verde.   \n",
    "\n",
    "Cuando ninguna de las estaciones cercanas tiene datos entonces asinamos los datos de las estaciones con latitudes y altitudes semejantes a la estación de interés. La justificación de esto es que la temperatura está fuertemente correlacionada con ambas variables. Para eso escribimos la siguiente función `encontrar_latsalts`."
   ]
  },
  {
   "cell_type": "code",
   "execution_count": 27,
   "metadata": {},
   "outputs": [],
   "source": [
    "def encontrar_latsalts(y,tol_lat,tol_alt):\n",
    "    indices=[]\n",
    "    for i in range(251):\n",
    "        if y[0]-tol_lat<=X[i,0]<=y[0]+tol_lat and y[2]-tol_alt<=X[i,2]<=y[2]+tol_alt:\n",
    "            indices.append(i)\n",
    "    return indices"
   ]
  },
  {
   "cell_type": "markdown",
   "metadata": {},
   "source": [
    "### Ejemplo"
   ]
  },
  {
   "cell_type": "code",
   "execution_count": 28,
   "metadata": {},
   "outputs": [
    {
     "data": {
      "text/plain": [
       "[198, 146, 128, 248, 12, 199]"
      ]
     },
     "execution_count": 28,
     "metadata": {},
     "output_type": "execute_result"
    }
   ],
   "source": [
    "k_estaciones_cercanas(X[198,:],6)"
   ]
  },
  {
   "cell_type": "code",
   "execution_count": 29,
   "metadata": {},
   "outputs": [
    {
     "data": {
      "text/html": [
       "<div>\n",
       "<style scoped>\n",
       "    .dataframe tbody tr th:only-of-type {\n",
       "        vertical-align: middle;\n",
       "    }\n",
       "\n",
       "    .dataframe tbody tr th {\n",
       "        vertical-align: top;\n",
       "    }\n",
       "\n",
       "    .dataframe thead th {\n",
       "        text-align: right;\n",
       "    }\n",
       "</style>\n",
       "<table border=\"1\" class=\"dataframe\">\n",
       "  <thead>\n",
       "    <tr style=\"text-align: right;\">\n",
       "      <th></th>\n",
       "      <th>station ID</th>\n",
       "      <th>latitude</th>\n",
       "      <th>longitude</th>\n",
       "      <th>elevation</th>\n",
       "      <th>State</th>\n",
       "    </tr>\n",
       "  </thead>\n",
       "  <tbody>\n",
       "    <tr>\n",
       "      <th>198</th>\n",
       "      <td>MXN00014310</td>\n",
       "      <td>20.1167</td>\n",
       "      <td>104.3333</td>\n",
       "      <td>1369.8</td>\n",
       "      <td>AYUTLA</td>\n",
       "    </tr>\n",
       "    <tr>\n",
       "      <th>146</th>\n",
       "      <td>MXN00014158</td>\n",
       "      <td>19.9500</td>\n",
       "      <td>104.2667</td>\n",
       "      <td>1339.9</td>\n",
       "      <td>UNION DE TULA</td>\n",
       "    </tr>\n",
       "    <tr>\n",
       "      <th>128</th>\n",
       "      <td>MXN00014139</td>\n",
       "      <td>20.0167</td>\n",
       "      <td>104.2833</td>\n",
       "      <td>1329.8</td>\n",
       "      <td>TACOTAN</td>\n",
       "    </tr>\n",
       "    <tr>\n",
       "      <th>248</th>\n",
       "      <td>MXN00014395</td>\n",
       "      <td>19.9833</td>\n",
       "      <td>104.1833</td>\n",
       "      <td>1460.0</td>\n",
       "      <td>IXTLAHUACAN DE SANTIAGO</td>\n",
       "    </tr>\n",
       "    <tr>\n",
       "      <th>12</th>\n",
       "      <td>MXN00014014</td>\n",
       "      <td>20.2833</td>\n",
       "      <td>104.2500</td>\n",
       "      <td>1478.9</td>\n",
       "      <td>ATENGO (SMN)</td>\n",
       "    </tr>\n",
       "    <tr>\n",
       "      <th>199</th>\n",
       "      <td>MXN00014312</td>\n",
       "      <td>20.2000</td>\n",
       "      <td>104.4000</td>\n",
       "      <td>1720.0</td>\n",
       "      <td>CUAUTLA</td>\n",
       "    </tr>\n",
       "  </tbody>\n",
       "</table>\n",
       "</div>"
      ],
      "text/plain": [
       "      station ID  latitude  longitude  elevation                    State\n",
       "198  MXN00014310   20.1167   104.3333     1369.8                   AYUTLA\n",
       "146  MXN00014158   19.9500   104.2667     1339.9            UNION DE TULA\n",
       "128  MXN00014139   20.0167   104.2833     1329.8                  TACOTAN\n",
       "248  MXN00014395   19.9833   104.1833     1460.0  IXTLAHUACAN DE SANTIAGO\n",
       "12   MXN00014014   20.2833   104.2500     1478.9             ATENGO (SMN)\n",
       "199  MXN00014312   20.2000   104.4000     1720.0                  CUAUTLA"
      ]
     },
     "execution_count": 29,
     "metadata": {},
     "output_type": "execute_result"
    }
   ],
   "source": [
    "stations.loc[[198, 146, 128,248, 12, 199]]"
   ]
  },
  {
   "cell_type": "markdown",
   "metadata": {},
   "source": [
    "Ninguna de las 6 estaciones más cercanas a Ayutla tiene datos del 2010, motivo por el cual procedemos a encontrar estaciones cuyos datos de latitud y elevación se encuentren en intervalos que tengan como centros los datos de entrada."
   ]
  },
  {
   "cell_type": "code",
   "execution_count": 30,
   "metadata": {},
   "outputs": [],
   "source": [
    "def encontrar_latsalts(y,tol_lat,tol_alt):\n",
    "    indices=[]\n",
    "    for i in range(251):\n",
    "        if y[0]-tol_lat<=X[i,0]<=y[0]+tol_lat and y[2]-tol_alt<=X[i,2]<=y[2]+tol_alt:\n",
    "            indices.append(i)\n",
    "    return indices"
   ]
  },
  {
   "cell_type": "code",
   "execution_count": 31,
   "metadata": {},
   "outputs": [
    {
     "data": {
      "text/plain": [
       "[135, 198, 209]"
      ]
     },
     "execution_count": 31,
     "metadata": {},
     "output_type": "execute_result"
    }
   ],
   "source": [
    "encontrar_latsalts(X[198,:],0.05,50)"
   ]
  },
  {
   "cell_type": "code",
   "execution_count": 32,
   "metadata": {},
   "outputs": [
    {
     "data": {
      "text/plain": [
       "(365,\n",
       " PRCP     2.224110\n",
       " TMAX    29.337534\n",
       " TMIN    12.440548\n",
       " dtype: float64,\n",
       " '1962-06-07',\n",
       " '2012-01-31',\n",
       " STATION         MXN00014146\n",
       " NAME       TEOCUITATLAN, MX\n",
       " Name: 1962-06-07, dtype: object)"
      ]
     },
     "execution_count": 32,
     "metadata": {},
     "output_type": "execute_result"
    }
   ],
   "source": [
    "datos_2010(135)"
   ]
  },
  {
   "cell_type": "code",
   "execution_count": 33,
   "metadata": {},
   "outputs": [
    {
     "data": {
      "text/html": [
       "<div>\n",
       "<style scoped>\n",
       "    .dataframe tbody tr th:only-of-type {\n",
       "        vertical-align: middle;\n",
       "    }\n",
       "\n",
       "    .dataframe tbody tr th {\n",
       "        vertical-align: top;\n",
       "    }\n",
       "\n",
       "    .dataframe thead th {\n",
       "        text-align: right;\n",
       "    }\n",
       "</style>\n",
       "<table border=\"1\" class=\"dataframe\">\n",
       "  <thead>\n",
       "    <tr style=\"text-align: right;\">\n",
       "      <th></th>\n",
       "      <th>station ID</th>\n",
       "      <th>latitude</th>\n",
       "      <th>longitude</th>\n",
       "      <th>elevation</th>\n",
       "      <th>State</th>\n",
       "    </tr>\n",
       "  </thead>\n",
       "  <tbody>\n",
       "    <tr>\n",
       "      <th>135</th>\n",
       "      <td>MXN00014146</td>\n",
       "      <td>20.0833</td>\n",
       "      <td>103.3667</td>\n",
       "      <td>1369.8</td>\n",
       "      <td>TEOCUITATLAN</td>\n",
       "    </tr>\n",
       "    <tr>\n",
       "      <th>198</th>\n",
       "      <td>MXN00014310</td>\n",
       "      <td>20.1167</td>\n",
       "      <td>104.3333</td>\n",
       "      <td>1369.8</td>\n",
       "      <td>AYUTLA</td>\n",
       "    </tr>\n",
       "  </tbody>\n",
       "</table>\n",
       "</div>"
      ],
      "text/plain": [
       "      station ID  latitude  longitude  elevation         State\n",
       "135  MXN00014146   20.0833   103.3667     1369.8  TEOCUITATLAN\n",
       "198  MXN00014310   20.1167   104.3333     1369.8        AYUTLA"
      ]
     },
     "execution_count": 33,
     "metadata": {},
     "output_type": "execute_result"
    }
   ],
   "source": [
    "stations.loc[[135, 198]]"
   ]
  },
  {
   "cell_type": "markdown",
   "metadata": {},
   "source": [
    "el dato 135 sí tiene información del 2010, así que estos son los valores que le asignamos a Ayutla. "
   ]
  },
  {
   "cell_type": "markdown",
   "metadata": {},
   "source": [
    "## 3. Municipios que solo tienen registros de algunos días del año 2010.\n",
    "Buscamos las fechas del 2010 que carecen de datos. Después, buscamos los datos de climatológicos de estas fechas pero de un año proximo (preferentemente de los años 2009 o 2011). Con estos rellenamos los datos de los días del 2010 que no tienen registros.\n",
    "\n",
    "### Ejemplo \n",
    "\n",
    "La estación de Corrinchis, que pertence al municipio de Mascota, es un ejemplo de este tipo de estaciones:"
   ]
  },
  {
   "cell_type": "code",
   "execution_count": 34,
   "metadata": {},
   "outputs": [
    {
     "data": {
      "text/html": [
       "<div>\n",
       "<style scoped>\n",
       "    .dataframe tbody tr th:only-of-type {\n",
       "        vertical-align: middle;\n",
       "    }\n",
       "\n",
       "    .dataframe tbody tr th {\n",
       "        vertical-align: top;\n",
       "    }\n",
       "\n",
       "    .dataframe thead th {\n",
       "        text-align: right;\n",
       "    }\n",
       "</style>\n",
       "<table border=\"1\" class=\"dataframe\">\n",
       "  <thead>\n",
       "    <tr style=\"text-align: right;\">\n",
       "      <th></th>\n",
       "      <th>STATION</th>\n",
       "      <th>LATITUDE</th>\n",
       "      <th>LONGITUDE</th>\n",
       "      <th>ELEVATION</th>\n",
       "      <th>NAME</th>\n",
       "      <th>PRCP</th>\n",
       "      <th>PRCP_ATTRIBUTES</th>\n",
       "      <th>TMAX</th>\n",
       "      <th>TMAX_ATTRIBUTES</th>\n",
       "      <th>TMIN</th>\n",
       "      <th>TMIN_ATTRIBUTES</th>\n",
       "    </tr>\n",
       "    <tr>\n",
       "      <th>DATE</th>\n",
       "      <th></th>\n",
       "      <th></th>\n",
       "      <th></th>\n",
       "      <th></th>\n",
       "      <th></th>\n",
       "      <th></th>\n",
       "      <th></th>\n",
       "      <th></th>\n",
       "      <th></th>\n",
       "      <th></th>\n",
       "      <th></th>\n",
       "    </tr>\n",
       "  </thead>\n",
       "  <tbody>\n",
       "    <tr>\n",
       "      <th>1961-01-01</th>\n",
       "      <td>MXN00014035</td>\n",
       "      <td>20.5</td>\n",
       "      <td>-104.7667</td>\n",
       "      <td>1266.7</td>\n",
       "      <td>CORRINCHIS II, MX</td>\n",
       "      <td>0.0</td>\n",
       "      <td>,,m</td>\n",
       "      <td>250.0</td>\n",
       "      <td>,,m</td>\n",
       "      <td>61.0</td>\n",
       "      <td>,,m</td>\n",
       "    </tr>\n",
       "    <tr>\n",
       "      <th>1961-01-02</th>\n",
       "      <td>MXN00014035</td>\n",
       "      <td>20.5</td>\n",
       "      <td>-104.7667</td>\n",
       "      <td>1266.7</td>\n",
       "      <td>CORRINCHIS II, MX</td>\n",
       "      <td>0.0</td>\n",
       "      <td>,,m</td>\n",
       "      <td>250.0</td>\n",
       "      <td>,,m</td>\n",
       "      <td>39.0</td>\n",
       "      <td>,,m</td>\n",
       "    </tr>\n",
       "    <tr>\n",
       "      <th>1961-01-03</th>\n",
       "      <td>MXN00014035</td>\n",
       "      <td>20.5</td>\n",
       "      <td>-104.7667</td>\n",
       "      <td>1266.7</td>\n",
       "      <td>CORRINCHIS II, MX</td>\n",
       "      <td>0.0</td>\n",
       "      <td>,,m</td>\n",
       "      <td>250.0</td>\n",
       "      <td>,,m</td>\n",
       "      <td>28.0</td>\n",
       "      <td>,,m</td>\n",
       "    </tr>\n",
       "    <tr>\n",
       "      <th>1961-01-04</th>\n",
       "      <td>MXN00014035</td>\n",
       "      <td>20.5</td>\n",
       "      <td>-104.7667</td>\n",
       "      <td>1266.7</td>\n",
       "      <td>CORRINCHIS II, MX</td>\n",
       "      <td>0.0</td>\n",
       "      <td>,,m</td>\n",
       "      <td>272.0</td>\n",
       "      <td>,,m</td>\n",
       "      <td>33.0</td>\n",
       "      <td>,,m</td>\n",
       "    </tr>\n",
       "    <tr>\n",
       "      <th>1961-01-05</th>\n",
       "      <td>MXN00014035</td>\n",
       "      <td>20.5</td>\n",
       "      <td>-104.7667</td>\n",
       "      <td>1266.7</td>\n",
       "      <td>CORRINCHIS II, MX</td>\n",
       "      <td>0.0</td>\n",
       "      <td>,,m</td>\n",
       "      <td>267.0</td>\n",
       "      <td>,,m</td>\n",
       "      <td>39.0</td>\n",
       "      <td>,,m</td>\n",
       "    </tr>\n",
       "    <tr>\n",
       "      <th>...</th>\n",
       "      <td>...</td>\n",
       "      <td>...</td>\n",
       "      <td>...</td>\n",
       "      <td>...</td>\n",
       "      <td>...</td>\n",
       "      <td>...</td>\n",
       "      <td>...</td>\n",
       "      <td>...</td>\n",
       "      <td>...</td>\n",
       "      <td>...</td>\n",
       "      <td>...</td>\n",
       "    </tr>\n",
       "    <tr>\n",
       "      <th>2012-01-27</th>\n",
       "      <td>MXN00014035</td>\n",
       "      <td>20.5</td>\n",
       "      <td>-104.7667</td>\n",
       "      <td>1266.7</td>\n",
       "      <td>CORRINCHIS II, MX</td>\n",
       "      <td>NaN</td>\n",
       "      <td>NaN</td>\n",
       "      <td>283.0</td>\n",
       "      <td>,,m</td>\n",
       "      <td>0.0</td>\n",
       "      <td>,,m</td>\n",
       "    </tr>\n",
       "    <tr>\n",
       "      <th>2012-01-28</th>\n",
       "      <td>MXN00014035</td>\n",
       "      <td>20.5</td>\n",
       "      <td>-104.7667</td>\n",
       "      <td>1266.7</td>\n",
       "      <td>CORRINCHIS II, MX</td>\n",
       "      <td>0.0</td>\n",
       "      <td>,,m</td>\n",
       "      <td>256.0</td>\n",
       "      <td>,,m</td>\n",
       "      <td>17.0</td>\n",
       "      <td>,,m</td>\n",
       "    </tr>\n",
       "    <tr>\n",
       "      <th>2012-01-29</th>\n",
       "      <td>MXN00014035</td>\n",
       "      <td>20.5</td>\n",
       "      <td>-104.7667</td>\n",
       "      <td>1266.7</td>\n",
       "      <td>CORRINCHIS II, MX</td>\n",
       "      <td>0.0</td>\n",
       "      <td>,,m</td>\n",
       "      <td>250.0</td>\n",
       "      <td>,,m</td>\n",
       "      <td>28.0</td>\n",
       "      <td>,,m</td>\n",
       "    </tr>\n",
       "    <tr>\n",
       "      <th>2012-01-30</th>\n",
       "      <td>MXN00014035</td>\n",
       "      <td>20.5</td>\n",
       "      <td>-104.7667</td>\n",
       "      <td>1266.7</td>\n",
       "      <td>CORRINCHIS II, MX</td>\n",
       "      <td>0.0</td>\n",
       "      <td>,,m</td>\n",
       "      <td>239.0</td>\n",
       "      <td>,,m</td>\n",
       "      <td>33.0</td>\n",
       "      <td>,,m</td>\n",
       "    </tr>\n",
       "    <tr>\n",
       "      <th>2012-01-31</th>\n",
       "      <td>MXN00014035</td>\n",
       "      <td>20.5</td>\n",
       "      <td>-104.7667</td>\n",
       "      <td>1266.7</td>\n",
       "      <td>CORRINCHIS II, MX</td>\n",
       "      <td>0.0</td>\n",
       "      <td>,,m</td>\n",
       "      <td>250.0</td>\n",
       "      <td>,,m</td>\n",
       "      <td>78.0</td>\n",
       "      <td>,,m</td>\n",
       "    </tr>\n",
       "  </tbody>\n",
       "</table>\n",
       "<p>17502 rows × 11 columns</p>\n",
       "</div>"
      ],
      "text/plain": [
       "                STATION  LATITUDE  LONGITUDE  ELEVATION               NAME  \\\n",
       "DATE                                                                         \n",
       "1961-01-01  MXN00014035      20.5  -104.7667     1266.7  CORRINCHIS II, MX   \n",
       "1961-01-02  MXN00014035      20.5  -104.7667     1266.7  CORRINCHIS II, MX   \n",
       "1961-01-03  MXN00014035      20.5  -104.7667     1266.7  CORRINCHIS II, MX   \n",
       "1961-01-04  MXN00014035      20.5  -104.7667     1266.7  CORRINCHIS II, MX   \n",
       "1961-01-05  MXN00014035      20.5  -104.7667     1266.7  CORRINCHIS II, MX   \n",
       "...                 ...       ...        ...        ...                ...   \n",
       "2012-01-27  MXN00014035      20.5  -104.7667     1266.7  CORRINCHIS II, MX   \n",
       "2012-01-28  MXN00014035      20.5  -104.7667     1266.7  CORRINCHIS II, MX   \n",
       "2012-01-29  MXN00014035      20.5  -104.7667     1266.7  CORRINCHIS II, MX   \n",
       "2012-01-30  MXN00014035      20.5  -104.7667     1266.7  CORRINCHIS II, MX   \n",
       "2012-01-31  MXN00014035      20.5  -104.7667     1266.7  CORRINCHIS II, MX   \n",
       "\n",
       "            PRCP PRCP_ATTRIBUTES   TMAX TMAX_ATTRIBUTES  TMIN TMIN_ATTRIBUTES  \n",
       "DATE                                                                           \n",
       "1961-01-01   0.0             ,,m  250.0             ,,m  61.0             ,,m  \n",
       "1961-01-02   0.0             ,,m  250.0             ,,m  39.0             ,,m  \n",
       "1961-01-03   0.0             ,,m  250.0             ,,m  28.0             ,,m  \n",
       "1961-01-04   0.0             ,,m  272.0             ,,m  33.0             ,,m  \n",
       "1961-01-05   0.0             ,,m  267.0             ,,m  39.0             ,,m  \n",
       "...          ...             ...    ...             ...   ...             ...  \n",
       "2012-01-27   NaN             NaN  283.0             ,,m   0.0             ,,m  \n",
       "2012-01-28   0.0             ,,m  256.0             ,,m  17.0             ,,m  \n",
       "2012-01-29   0.0             ,,m  250.0             ,,m  28.0             ,,m  \n",
       "2012-01-30   0.0             ,,m  239.0             ,,m  33.0             ,,m  \n",
       "2012-01-31   0.0             ,,m  250.0             ,,m  78.0             ,,m  \n",
       "\n",
       "[17502 rows x 11 columns]"
      ]
     },
     "execution_count": 34,
     "metadata": {},
     "output_type": "execute_result"
    }
   ],
   "source": [
    "lista_de_datos[32]"
   ]
  },
  {
   "cell_type": "markdown",
   "metadata": {},
   "source": [
    "Como vemos abajo solo tiene 335 registros del año 2010:"
   ]
  },
  {
   "cell_type": "code",
   "execution_count": 35,
   "metadata": {},
   "outputs": [
    {
     "data": {
      "text/plain": [
       "(335,\n",
       " PRCP     4.222754\n",
       " TMAX    28.290390\n",
       " TMIN     9.623054\n",
       " dtype: float64,\n",
       " '1961-01-01',\n",
       " '2012-01-31',\n",
       " STATION          MXN00014035\n",
       " NAME       CORRINCHIS II, MX\n",
       " Name: 1961-01-01, dtype: object)"
      ]
     },
     "execution_count": 35,
     "metadata": {},
     "output_type": "execute_result"
    }
   ],
   "source": [
    "datos_2010(32)"
   ]
  },
  {
   "cell_type": "markdown",
   "metadata": {},
   "source": [
    "A continuación buscamos cuáles son exactamente los días del 2010 que no tienen datos:"
   ]
  },
  {
   "cell_type": "code",
   "execution_count": 36,
   "metadata": {},
   "outputs": [],
   "source": [
    "from datetimerange import DateTimeRange\n",
    "rango=pd.date_range('1/1/2010', end='31/12/2010')\n",
    "rango.index=rango"
   ]
  },
  {
   "cell_type": "code",
   "execution_count": 37,
   "metadata": {},
   "outputs": [],
   "source": [
    "missing_dates = rango.index[~rango.index.isin(lista_de_datos[32].loc['2010-01-01':'2010-12-31'].index)]"
   ]
  },
  {
   "cell_type": "code",
   "execution_count": 38,
   "metadata": {},
   "outputs": [
    {
     "data": {
      "text/plain": [
       "DatetimeIndex(['2010-01-04', '2010-01-05', '2010-01-06', '2010-01-07',\n",
       "               '2010-01-08', '2010-01-09', '2010-01-10', '2010-01-11',\n",
       "               '2010-01-12', '2010-01-13', '2010-01-14', '2010-01-15',\n",
       "               '2010-01-16', '2010-01-17', '2010-01-18', '2010-01-19',\n",
       "               '2010-01-20', '2010-01-21', '2010-01-22', '2010-01-23',\n",
       "               '2010-01-24', '2010-01-25', '2010-01-26', '2010-01-27',\n",
       "               '2010-01-28', '2010-01-29', '2010-04-27', '2010-04-28',\n",
       "               '2010-04-29', '2010-04-30'],\n",
       "              dtype='datetime64[ns]', freq=None)"
      ]
     },
     "execution_count": 38,
     "metadata": {},
     "output_type": "execute_result"
    }
   ],
   "source": [
    "missing_dates"
   ]
  },
  {
   "cell_type": "code",
   "execution_count": 39,
   "metadata": {},
   "outputs": [
    {
     "data": {
      "text/plain": [
       "30"
      ]
     },
     "execution_count": 39,
     "metadata": {},
     "output_type": "execute_result"
    }
   ],
   "source": [
    "len(missing_dates)"
   ]
  },
  {
   "cell_type": "markdown",
   "metadata": {},
   "source": [
    "A veces los años inmediatos, 2009 o 2011, tampoco tienen los registros de estas fechas. En esos casos tomamos el año más proximo con estos datos. Por ejemplo, para Corrinchis, se utilizaron algunos datos del 2004 y otros del 2009."
   ]
  },
  {
   "cell_type": "code",
   "execution_count": 40,
   "metadata": {},
   "outputs": [
    {
     "data": {
      "text/html": [
       "<div>\n",
       "<style scoped>\n",
       "    .dataframe tbody tr th:only-of-type {\n",
       "        vertical-align: middle;\n",
       "    }\n",
       "\n",
       "    .dataframe tbody tr th {\n",
       "        vertical-align: top;\n",
       "    }\n",
       "\n",
       "    .dataframe thead th {\n",
       "        text-align: right;\n",
       "    }\n",
       "</style>\n",
       "<table border=\"1\" class=\"dataframe\">\n",
       "  <thead>\n",
       "    <tr style=\"text-align: right;\">\n",
       "      <th></th>\n",
       "      <th>STATION</th>\n",
       "      <th>LATITUDE</th>\n",
       "      <th>LONGITUDE</th>\n",
       "      <th>ELEVATION</th>\n",
       "      <th>NAME</th>\n",
       "      <th>PRCP</th>\n",
       "      <th>PRCP_ATTRIBUTES</th>\n",
       "      <th>TMAX</th>\n",
       "      <th>TMAX_ATTRIBUTES</th>\n",
       "      <th>TMIN</th>\n",
       "      <th>TMIN_ATTRIBUTES</th>\n",
       "    </tr>\n",
       "    <tr>\n",
       "      <th>DATE</th>\n",
       "      <th></th>\n",
       "      <th></th>\n",
       "      <th></th>\n",
       "      <th></th>\n",
       "      <th></th>\n",
       "      <th></th>\n",
       "      <th></th>\n",
       "      <th></th>\n",
       "      <th></th>\n",
       "      <th></th>\n",
       "      <th></th>\n",
       "    </tr>\n",
       "  </thead>\n",
       "  <tbody>\n",
       "    <tr>\n",
       "      <th>2004-01-04</th>\n",
       "      <td>MXN00014035</td>\n",
       "      <td>20.5</td>\n",
       "      <td>-104.7667</td>\n",
       "      <td>1266.7</td>\n",
       "      <td>CORRINCHIS II, MX</td>\n",
       "      <td>0.0</td>\n",
       "      <td>,,m</td>\n",
       "      <td>261.0</td>\n",
       "      <td>,,m</td>\n",
       "      <td>50.0</td>\n",
       "      <td>,,m</td>\n",
       "    </tr>\n",
       "    <tr>\n",
       "      <th>2004-01-05</th>\n",
       "      <td>MXN00014035</td>\n",
       "      <td>20.5</td>\n",
       "      <td>-104.7667</td>\n",
       "      <td>1266.7</td>\n",
       "      <td>CORRINCHIS II, MX</td>\n",
       "      <td>0.0</td>\n",
       "      <td>,,m</td>\n",
       "      <td>267.0</td>\n",
       "      <td>,,m</td>\n",
       "      <td>44.0</td>\n",
       "      <td>,,m</td>\n",
       "    </tr>\n",
       "    <tr>\n",
       "      <th>2004-01-06</th>\n",
       "      <td>MXN00014035</td>\n",
       "      <td>20.5</td>\n",
       "      <td>-104.7667</td>\n",
       "      <td>1266.7</td>\n",
       "      <td>CORRINCHIS II, MX</td>\n",
       "      <td>0.0</td>\n",
       "      <td>,,m</td>\n",
       "      <td>267.0</td>\n",
       "      <td>,,m</td>\n",
       "      <td>56.0</td>\n",
       "      <td>,,m</td>\n",
       "    </tr>\n",
       "    <tr>\n",
       "      <th>2004-01-07</th>\n",
       "      <td>MXN00014035</td>\n",
       "      <td>20.5</td>\n",
       "      <td>-104.7667</td>\n",
       "      <td>1266.7</td>\n",
       "      <td>CORRINCHIS II, MX</td>\n",
       "      <td>0.0</td>\n",
       "      <td>,,m</td>\n",
       "      <td>267.0</td>\n",
       "      <td>,,m</td>\n",
       "      <td>89.0</td>\n",
       "      <td>,,m</td>\n",
       "    </tr>\n",
       "    <tr>\n",
       "      <th>2004-01-08</th>\n",
       "      <td>MXN00014035</td>\n",
       "      <td>20.5</td>\n",
       "      <td>-104.7667</td>\n",
       "      <td>1266.7</td>\n",
       "      <td>CORRINCHIS II, MX</td>\n",
       "      <td>0.0</td>\n",
       "      <td>,,m</td>\n",
       "      <td>267.0</td>\n",
       "      <td>,,m</td>\n",
       "      <td>106.0</td>\n",
       "      <td>,,m</td>\n",
       "    </tr>\n",
       "    <tr>\n",
       "      <th>2004-01-09</th>\n",
       "      <td>MXN00014035</td>\n",
       "      <td>20.5</td>\n",
       "      <td>-104.7667</td>\n",
       "      <td>1266.7</td>\n",
       "      <td>CORRINCHIS II, MX</td>\n",
       "      <td>0.0</td>\n",
       "      <td>,,m</td>\n",
       "      <td>267.0</td>\n",
       "      <td>,,m</td>\n",
       "      <td>100.0</td>\n",
       "      <td>,,m</td>\n",
       "    </tr>\n",
       "    <tr>\n",
       "      <th>2004-01-10</th>\n",
       "      <td>MXN00014035</td>\n",
       "      <td>20.5</td>\n",
       "      <td>-104.7667</td>\n",
       "      <td>1266.7</td>\n",
       "      <td>CORRINCHIS II, MX</td>\n",
       "      <td>157.0</td>\n",
       "      <td>,,m</td>\n",
       "      <td>256.0</td>\n",
       "      <td>,,m</td>\n",
       "      <td>100.0</td>\n",
       "      <td>,,m</td>\n",
       "    </tr>\n",
       "    <tr>\n",
       "      <th>2004-01-11</th>\n",
       "      <td>MXN00014035</td>\n",
       "      <td>20.5</td>\n",
       "      <td>-104.7667</td>\n",
       "      <td>1266.7</td>\n",
       "      <td>CORRINCHIS II, MX</td>\n",
       "      <td>119.0</td>\n",
       "      <td>,,m</td>\n",
       "      <td>261.0</td>\n",
       "      <td>,,m</td>\n",
       "      <td>83.0</td>\n",
       "      <td>,,m</td>\n",
       "    </tr>\n",
       "    <tr>\n",
       "      <th>2004-01-12</th>\n",
       "      <td>MXN00014035</td>\n",
       "      <td>20.5</td>\n",
       "      <td>-104.7667</td>\n",
       "      <td>1266.7</td>\n",
       "      <td>CORRINCHIS II, MX</td>\n",
       "      <td>0.0</td>\n",
       "      <td>,,m</td>\n",
       "      <td>200.0</td>\n",
       "      <td>,,m</td>\n",
       "      <td>89.0</td>\n",
       "      <td>,,m</td>\n",
       "    </tr>\n",
       "    <tr>\n",
       "      <th>2004-01-13</th>\n",
       "      <td>MXN00014035</td>\n",
       "      <td>20.5</td>\n",
       "      <td>-104.7667</td>\n",
       "      <td>1266.7</td>\n",
       "      <td>CORRINCHIS II, MX</td>\n",
       "      <td>206.0</td>\n",
       "      <td>,,m</td>\n",
       "      <td>178.0</td>\n",
       "      <td>,,m</td>\n",
       "      <td>117.0</td>\n",
       "      <td>,,m</td>\n",
       "    </tr>\n",
       "    <tr>\n",
       "      <th>2004-01-14</th>\n",
       "      <td>MXN00014035</td>\n",
       "      <td>20.5</td>\n",
       "      <td>-104.7667</td>\n",
       "      <td>1266.7</td>\n",
       "      <td>CORRINCHIS II, MX</td>\n",
       "      <td>216.0</td>\n",
       "      <td>,,m</td>\n",
       "      <td>167.0</td>\n",
       "      <td>,,m</td>\n",
       "      <td>100.0</td>\n",
       "      <td>,,m</td>\n",
       "    </tr>\n",
       "    <tr>\n",
       "      <th>2004-01-15</th>\n",
       "      <td>MXN00014035</td>\n",
       "      <td>20.5</td>\n",
       "      <td>-104.7667</td>\n",
       "      <td>1266.7</td>\n",
       "      <td>CORRINCHIS II, MX</td>\n",
       "      <td>267.0</td>\n",
       "      <td>,,m</td>\n",
       "      <td>189.0</td>\n",
       "      <td>,,m</td>\n",
       "      <td>106.0</td>\n",
       "      <td>,,m</td>\n",
       "    </tr>\n",
       "    <tr>\n",
       "      <th>2004-01-16</th>\n",
       "      <td>MXN00014035</td>\n",
       "      <td>20.5</td>\n",
       "      <td>-104.7667</td>\n",
       "      <td>1266.7</td>\n",
       "      <td>CORRINCHIS II, MX</td>\n",
       "      <td>8.0</td>\n",
       "      <td>,,m</td>\n",
       "      <td>178.0</td>\n",
       "      <td>,,m</td>\n",
       "      <td>100.0</td>\n",
       "      <td>,,m</td>\n",
       "    </tr>\n",
       "    <tr>\n",
       "      <th>2004-01-17</th>\n",
       "      <td>MXN00014035</td>\n",
       "      <td>20.5</td>\n",
       "      <td>-104.7667</td>\n",
       "      <td>1266.7</td>\n",
       "      <td>CORRINCHIS II, MX</td>\n",
       "      <td>0.0</td>\n",
       "      <td>,,m</td>\n",
       "      <td>206.0</td>\n",
       "      <td>,,m</td>\n",
       "      <td>61.0</td>\n",
       "      <td>,,m</td>\n",
       "    </tr>\n",
       "    <tr>\n",
       "      <th>2004-01-18</th>\n",
       "      <td>MXN00014035</td>\n",
       "      <td>20.5</td>\n",
       "      <td>-104.7667</td>\n",
       "      <td>1266.7</td>\n",
       "      <td>CORRINCHIS II, MX</td>\n",
       "      <td>0.0</td>\n",
       "      <td>,,m</td>\n",
       "      <td>211.0</td>\n",
       "      <td>,,m</td>\n",
       "      <td>28.0</td>\n",
       "      <td>,,m</td>\n",
       "    </tr>\n",
       "    <tr>\n",
       "      <th>2004-01-19</th>\n",
       "      <td>MXN00014035</td>\n",
       "      <td>20.5</td>\n",
       "      <td>-104.7667</td>\n",
       "      <td>1266.7</td>\n",
       "      <td>CORRINCHIS II, MX</td>\n",
       "      <td>0.0</td>\n",
       "      <td>,,m</td>\n",
       "      <td>189.0</td>\n",
       "      <td>,,m</td>\n",
       "      <td>17.0</td>\n",
       "      <td>,,m</td>\n",
       "    </tr>\n",
       "    <tr>\n",
       "      <th>2004-01-20</th>\n",
       "      <td>MXN00014035</td>\n",
       "      <td>20.5</td>\n",
       "      <td>-104.7667</td>\n",
       "      <td>1266.7</td>\n",
       "      <td>CORRINCHIS II, MX</td>\n",
       "      <td>0.0</td>\n",
       "      <td>,,m</td>\n",
       "      <td>189.0</td>\n",
       "      <td>,,m</td>\n",
       "      <td>22.0</td>\n",
       "      <td>,,m</td>\n",
       "    </tr>\n",
       "    <tr>\n",
       "      <th>2004-01-21</th>\n",
       "      <td>MXN00014035</td>\n",
       "      <td>20.5</td>\n",
       "      <td>-104.7667</td>\n",
       "      <td>1266.7</td>\n",
       "      <td>CORRINCHIS II, MX</td>\n",
       "      <td>0.0</td>\n",
       "      <td>,,m</td>\n",
       "      <td>244.0</td>\n",
       "      <td>,,m</td>\n",
       "      <td>39.0</td>\n",
       "      <td>,,m</td>\n",
       "    </tr>\n",
       "    <tr>\n",
       "      <th>2004-01-22</th>\n",
       "      <td>MXN00014035</td>\n",
       "      <td>20.5</td>\n",
       "      <td>-104.7667</td>\n",
       "      <td>1266.7</td>\n",
       "      <td>CORRINCHIS II, MX</td>\n",
       "      <td>0.0</td>\n",
       "      <td>,,m</td>\n",
       "      <td>250.0</td>\n",
       "      <td>,,m</td>\n",
       "      <td>44.0</td>\n",
       "      <td>,,m</td>\n",
       "    </tr>\n",
       "    <tr>\n",
       "      <th>2004-01-23</th>\n",
       "      <td>MXN00014035</td>\n",
       "      <td>20.5</td>\n",
       "      <td>-104.7667</td>\n",
       "      <td>1266.7</td>\n",
       "      <td>CORRINCHIS II, MX</td>\n",
       "      <td>0.0</td>\n",
       "      <td>,,m</td>\n",
       "      <td>228.0</td>\n",
       "      <td>,,m</td>\n",
       "      <td>50.0</td>\n",
       "      <td>,,m</td>\n",
       "    </tr>\n",
       "    <tr>\n",
       "      <th>2004-01-24</th>\n",
       "      <td>MXN00014035</td>\n",
       "      <td>20.5</td>\n",
       "      <td>-104.7667</td>\n",
       "      <td>1266.7</td>\n",
       "      <td>CORRINCHIS II, MX</td>\n",
       "      <td>0.0</td>\n",
       "      <td>,,m</td>\n",
       "      <td>217.0</td>\n",
       "      <td>,,m</td>\n",
       "      <td>78.0</td>\n",
       "      <td>,,m</td>\n",
       "    </tr>\n",
       "    <tr>\n",
       "      <th>2004-01-25</th>\n",
       "      <td>MXN00014035</td>\n",
       "      <td>20.5</td>\n",
       "      <td>-104.7667</td>\n",
       "      <td>1266.7</td>\n",
       "      <td>CORRINCHIS II, MX</td>\n",
       "      <td>0.0</td>\n",
       "      <td>,,m</td>\n",
       "      <td>228.0</td>\n",
       "      <td>,,m</td>\n",
       "      <td>78.0</td>\n",
       "      <td>,,m</td>\n",
       "    </tr>\n",
       "    <tr>\n",
       "      <th>2004-01-26</th>\n",
       "      <td>MXN00014035</td>\n",
       "      <td>20.5</td>\n",
       "      <td>-104.7667</td>\n",
       "      <td>1266.7</td>\n",
       "      <td>CORRINCHIS II, MX</td>\n",
       "      <td>0.0</td>\n",
       "      <td>,,m</td>\n",
       "      <td>233.0</td>\n",
       "      <td>,,m</td>\n",
       "      <td>-6.0</td>\n",
       "      <td>,,m</td>\n",
       "    </tr>\n",
       "    <tr>\n",
       "      <th>2004-01-27</th>\n",
       "      <td>MXN00014035</td>\n",
       "      <td>20.5</td>\n",
       "      <td>-104.7667</td>\n",
       "      <td>1266.7</td>\n",
       "      <td>CORRINCHIS II, MX</td>\n",
       "      <td>0.0</td>\n",
       "      <td>,,m</td>\n",
       "      <td>239.0</td>\n",
       "      <td>,,m</td>\n",
       "      <td>0.0</td>\n",
       "      <td>,,m</td>\n",
       "    </tr>\n",
       "    <tr>\n",
       "      <th>2004-01-28</th>\n",
       "      <td>MXN00014035</td>\n",
       "      <td>20.5</td>\n",
       "      <td>-104.7667</td>\n",
       "      <td>1266.7</td>\n",
       "      <td>CORRINCHIS II, MX</td>\n",
       "      <td>0.0</td>\n",
       "      <td>,,m</td>\n",
       "      <td>228.0</td>\n",
       "      <td>,,m</td>\n",
       "      <td>11.0</td>\n",
       "      <td>,,m</td>\n",
       "    </tr>\n",
       "    <tr>\n",
       "      <th>2004-01-29</th>\n",
       "      <td>MXN00014035</td>\n",
       "      <td>20.5</td>\n",
       "      <td>-104.7667</td>\n",
       "      <td>1266.7</td>\n",
       "      <td>CORRINCHIS II, MX</td>\n",
       "      <td>0.0</td>\n",
       "      <td>,,m</td>\n",
       "      <td>206.0</td>\n",
       "      <td>,,m</td>\n",
       "      <td>17.0</td>\n",
       "      <td>,,m</td>\n",
       "    </tr>\n",
       "  </tbody>\n",
       "</table>\n",
       "</div>"
      ],
      "text/plain": [
       "                STATION  LATITUDE  LONGITUDE  ELEVATION               NAME  \\\n",
       "DATE                                                                         \n",
       "2004-01-04  MXN00014035      20.5  -104.7667     1266.7  CORRINCHIS II, MX   \n",
       "2004-01-05  MXN00014035      20.5  -104.7667     1266.7  CORRINCHIS II, MX   \n",
       "2004-01-06  MXN00014035      20.5  -104.7667     1266.7  CORRINCHIS II, MX   \n",
       "2004-01-07  MXN00014035      20.5  -104.7667     1266.7  CORRINCHIS II, MX   \n",
       "2004-01-08  MXN00014035      20.5  -104.7667     1266.7  CORRINCHIS II, MX   \n",
       "2004-01-09  MXN00014035      20.5  -104.7667     1266.7  CORRINCHIS II, MX   \n",
       "2004-01-10  MXN00014035      20.5  -104.7667     1266.7  CORRINCHIS II, MX   \n",
       "2004-01-11  MXN00014035      20.5  -104.7667     1266.7  CORRINCHIS II, MX   \n",
       "2004-01-12  MXN00014035      20.5  -104.7667     1266.7  CORRINCHIS II, MX   \n",
       "2004-01-13  MXN00014035      20.5  -104.7667     1266.7  CORRINCHIS II, MX   \n",
       "2004-01-14  MXN00014035      20.5  -104.7667     1266.7  CORRINCHIS II, MX   \n",
       "2004-01-15  MXN00014035      20.5  -104.7667     1266.7  CORRINCHIS II, MX   \n",
       "2004-01-16  MXN00014035      20.5  -104.7667     1266.7  CORRINCHIS II, MX   \n",
       "2004-01-17  MXN00014035      20.5  -104.7667     1266.7  CORRINCHIS II, MX   \n",
       "2004-01-18  MXN00014035      20.5  -104.7667     1266.7  CORRINCHIS II, MX   \n",
       "2004-01-19  MXN00014035      20.5  -104.7667     1266.7  CORRINCHIS II, MX   \n",
       "2004-01-20  MXN00014035      20.5  -104.7667     1266.7  CORRINCHIS II, MX   \n",
       "2004-01-21  MXN00014035      20.5  -104.7667     1266.7  CORRINCHIS II, MX   \n",
       "2004-01-22  MXN00014035      20.5  -104.7667     1266.7  CORRINCHIS II, MX   \n",
       "2004-01-23  MXN00014035      20.5  -104.7667     1266.7  CORRINCHIS II, MX   \n",
       "2004-01-24  MXN00014035      20.5  -104.7667     1266.7  CORRINCHIS II, MX   \n",
       "2004-01-25  MXN00014035      20.5  -104.7667     1266.7  CORRINCHIS II, MX   \n",
       "2004-01-26  MXN00014035      20.5  -104.7667     1266.7  CORRINCHIS II, MX   \n",
       "2004-01-27  MXN00014035      20.5  -104.7667     1266.7  CORRINCHIS II, MX   \n",
       "2004-01-28  MXN00014035      20.5  -104.7667     1266.7  CORRINCHIS II, MX   \n",
       "2004-01-29  MXN00014035      20.5  -104.7667     1266.7  CORRINCHIS II, MX   \n",
       "\n",
       "             PRCP PRCP_ATTRIBUTES   TMAX TMAX_ATTRIBUTES   TMIN  \\\n",
       "DATE                                                              \n",
       "2004-01-04    0.0             ,,m  261.0             ,,m   50.0   \n",
       "2004-01-05    0.0             ,,m  267.0             ,,m   44.0   \n",
       "2004-01-06    0.0             ,,m  267.0             ,,m   56.0   \n",
       "2004-01-07    0.0             ,,m  267.0             ,,m   89.0   \n",
       "2004-01-08    0.0             ,,m  267.0             ,,m  106.0   \n",
       "2004-01-09    0.0             ,,m  267.0             ,,m  100.0   \n",
       "2004-01-10  157.0             ,,m  256.0             ,,m  100.0   \n",
       "2004-01-11  119.0             ,,m  261.0             ,,m   83.0   \n",
       "2004-01-12    0.0             ,,m  200.0             ,,m   89.0   \n",
       "2004-01-13  206.0             ,,m  178.0             ,,m  117.0   \n",
       "2004-01-14  216.0             ,,m  167.0             ,,m  100.0   \n",
       "2004-01-15  267.0             ,,m  189.0             ,,m  106.0   \n",
       "2004-01-16    8.0             ,,m  178.0             ,,m  100.0   \n",
       "2004-01-17    0.0             ,,m  206.0             ,,m   61.0   \n",
       "2004-01-18    0.0             ,,m  211.0             ,,m   28.0   \n",
       "2004-01-19    0.0             ,,m  189.0             ,,m   17.0   \n",
       "2004-01-20    0.0             ,,m  189.0             ,,m   22.0   \n",
       "2004-01-21    0.0             ,,m  244.0             ,,m   39.0   \n",
       "2004-01-22    0.0             ,,m  250.0             ,,m   44.0   \n",
       "2004-01-23    0.0             ,,m  228.0             ,,m   50.0   \n",
       "2004-01-24    0.0             ,,m  217.0             ,,m   78.0   \n",
       "2004-01-25    0.0             ,,m  228.0             ,,m   78.0   \n",
       "2004-01-26    0.0             ,,m  233.0             ,,m   -6.0   \n",
       "2004-01-27    0.0             ,,m  239.0             ,,m    0.0   \n",
       "2004-01-28    0.0             ,,m  228.0             ,,m   11.0   \n",
       "2004-01-29    0.0             ,,m  206.0             ,,m   17.0   \n",
       "\n",
       "           TMIN_ATTRIBUTES  \n",
       "DATE                        \n",
       "2004-01-04             ,,m  \n",
       "2004-01-05             ,,m  \n",
       "2004-01-06             ,,m  \n",
       "2004-01-07             ,,m  \n",
       "2004-01-08             ,,m  \n",
       "2004-01-09             ,,m  \n",
       "2004-01-10             ,,m  \n",
       "2004-01-11             ,,m  \n",
       "2004-01-12             ,,m  \n",
       "2004-01-13             ,,m  \n",
       "2004-01-14             ,,m  \n",
       "2004-01-15             ,,m  \n",
       "2004-01-16             ,,m  \n",
       "2004-01-17             ,,m  \n",
       "2004-01-18             ,,m  \n",
       "2004-01-19             ,,m  \n",
       "2004-01-20             ,,m  \n",
       "2004-01-21             ,,m  \n",
       "2004-01-22             ,,m  \n",
       "2004-01-23             ,,m  \n",
       "2004-01-24             ,,m  \n",
       "2004-01-25             ,,m  \n",
       "2004-01-26             ,,m  \n",
       "2004-01-27             ,,m  \n",
       "2004-01-28             ,,m  \n",
       "2004-01-29             ,,m  "
      ]
     },
     "execution_count": 40,
     "metadata": {},
     "output_type": "execute_result"
    }
   ],
   "source": [
    "lista_de_datos[32].loc['2004-01-04':'2004-01-29']"
   ]
  },
  {
   "cell_type": "code",
   "execution_count": 41,
   "metadata": {},
   "outputs": [
    {
     "data": {
      "text/plain": [
       "26"
      ]
     },
     "execution_count": 41,
     "metadata": {},
     "output_type": "execute_result"
    }
   ],
   "source": [
    "len(lista_de_datos[32].loc['2004-01-04':'2004-01-29'])"
   ]
  },
  {
   "cell_type": "code",
   "execution_count": 42,
   "metadata": {},
   "outputs": [
    {
     "data": {
      "text/html": [
       "<div>\n",
       "<style scoped>\n",
       "    .dataframe tbody tr th:only-of-type {\n",
       "        vertical-align: middle;\n",
       "    }\n",
       "\n",
       "    .dataframe tbody tr th {\n",
       "        vertical-align: top;\n",
       "    }\n",
       "\n",
       "    .dataframe thead th {\n",
       "        text-align: right;\n",
       "    }\n",
       "</style>\n",
       "<table border=\"1\" class=\"dataframe\">\n",
       "  <thead>\n",
       "    <tr style=\"text-align: right;\">\n",
       "      <th></th>\n",
       "      <th>STATION</th>\n",
       "      <th>LATITUDE</th>\n",
       "      <th>LONGITUDE</th>\n",
       "      <th>ELEVATION</th>\n",
       "      <th>NAME</th>\n",
       "      <th>PRCP</th>\n",
       "      <th>PRCP_ATTRIBUTES</th>\n",
       "      <th>TMAX</th>\n",
       "      <th>TMAX_ATTRIBUTES</th>\n",
       "      <th>TMIN</th>\n",
       "      <th>TMIN_ATTRIBUTES</th>\n",
       "    </tr>\n",
       "    <tr>\n",
       "      <th>DATE</th>\n",
       "      <th></th>\n",
       "      <th></th>\n",
       "      <th></th>\n",
       "      <th></th>\n",
       "      <th></th>\n",
       "      <th></th>\n",
       "      <th></th>\n",
       "      <th></th>\n",
       "      <th></th>\n",
       "      <th></th>\n",
       "      <th></th>\n",
       "    </tr>\n",
       "  </thead>\n",
       "  <tbody>\n",
       "    <tr>\n",
       "      <th>2009-04-27</th>\n",
       "      <td>MXN00014035</td>\n",
       "      <td>20.5</td>\n",
       "      <td>-104.7667</td>\n",
       "      <td>1266.7</td>\n",
       "      <td>CORRINCHIS II, MX</td>\n",
       "      <td>0.0</td>\n",
       "      <td>,,m</td>\n",
       "      <td>339.0</td>\n",
       "      <td>,,m</td>\n",
       "      <td>78.0</td>\n",
       "      <td>,,m</td>\n",
       "    </tr>\n",
       "    <tr>\n",
       "      <th>2009-04-28</th>\n",
       "      <td>MXN00014035</td>\n",
       "      <td>20.5</td>\n",
       "      <td>-104.7667</td>\n",
       "      <td>1266.7</td>\n",
       "      <td>CORRINCHIS II, MX</td>\n",
       "      <td>0.0</td>\n",
       "      <td>,,m</td>\n",
       "      <td>350.0</td>\n",
       "      <td>,,m</td>\n",
       "      <td>72.0</td>\n",
       "      <td>,,m</td>\n",
       "    </tr>\n",
       "    <tr>\n",
       "      <th>2009-04-29</th>\n",
       "      <td>MXN00014035</td>\n",
       "      <td>20.5</td>\n",
       "      <td>-104.7667</td>\n",
       "      <td>1266.7</td>\n",
       "      <td>CORRINCHIS II, MX</td>\n",
       "      <td>0.0</td>\n",
       "      <td>,,m</td>\n",
       "      <td>350.0</td>\n",
       "      <td>,,m</td>\n",
       "      <td>83.0</td>\n",
       "      <td>,,m</td>\n",
       "    </tr>\n",
       "    <tr>\n",
       "      <th>2009-04-30</th>\n",
       "      <td>MXN00014035</td>\n",
       "      <td>20.5</td>\n",
       "      <td>-104.7667</td>\n",
       "      <td>1266.7</td>\n",
       "      <td>CORRINCHIS II, MX</td>\n",
       "      <td>0.0</td>\n",
       "      <td>,,m</td>\n",
       "      <td>350.0</td>\n",
       "      <td>,,m</td>\n",
       "      <td>78.0</td>\n",
       "      <td>,,m</td>\n",
       "    </tr>\n",
       "  </tbody>\n",
       "</table>\n",
       "</div>"
      ],
      "text/plain": [
       "                STATION  LATITUDE  LONGITUDE  ELEVATION               NAME  \\\n",
       "DATE                                                                         \n",
       "2009-04-27  MXN00014035      20.5  -104.7667     1266.7  CORRINCHIS II, MX   \n",
       "2009-04-28  MXN00014035      20.5  -104.7667     1266.7  CORRINCHIS II, MX   \n",
       "2009-04-29  MXN00014035      20.5  -104.7667     1266.7  CORRINCHIS II, MX   \n",
       "2009-04-30  MXN00014035      20.5  -104.7667     1266.7  CORRINCHIS II, MX   \n",
       "\n",
       "            PRCP PRCP_ATTRIBUTES   TMAX TMAX_ATTRIBUTES  TMIN TMIN_ATTRIBUTES  \n",
       "DATE                                                                           \n",
       "2009-04-27   0.0             ,,m  339.0             ,,m  78.0             ,,m  \n",
       "2009-04-28   0.0             ,,m  350.0             ,,m  72.0             ,,m  \n",
       "2009-04-29   0.0             ,,m  350.0             ,,m  83.0             ,,m  \n",
       "2009-04-30   0.0             ,,m  350.0             ,,m  78.0             ,,m  "
      ]
     },
     "execution_count": 42,
     "metadata": {},
     "output_type": "execute_result"
    }
   ],
   "source": [
    "lista_de_datos[32].loc['2009-04-27':'2009-04-30']"
   ]
  },
  {
   "cell_type": "code",
   "execution_count": 43,
   "metadata": {},
   "outputs": [
    {
     "data": {
      "text/plain": [
       "4"
      ]
     },
     "execution_count": 43,
     "metadata": {},
     "output_type": "execute_result"
    }
   ],
   "source": [
    "len(lista_de_datos[32].loc['2009-04-27':'2009-04-30'])"
   ]
  },
  {
   "cell_type": "markdown",
   "metadata": {},
   "source": [
    "El relleno de la estación 32 es el promedio de los datos faltantes."
   ]
  },
  {
   "cell_type": "code",
   "execution_count": 44,
   "metadata": {},
   "outputs": [],
   "source": [
    "relleno_32=(lista_de_datos[32].loc['2004-01-04':'2004-01-29',['PRCP','TMAX','TMIN']].mean()*26+lista_de_datos[32].loc['2009-04-27':'2009-04-30',['PRCP','TMAX','TMIN']].mean()*4)/(30*10)"
   ]
  },
  {
   "cell_type": "code",
   "execution_count": 45,
   "metadata": {},
   "outputs": [
    {
     "data": {
      "text/plain": [
       "PRCP     3.243333\n",
       "TMAX    24.273333\n",
       "TMIN     6.300000\n",
       "dtype: float64"
      ]
     },
     "execution_count": 45,
     "metadata": {},
     "output_type": "execute_result"
    }
   ],
   "source": [
    "relleno_32"
   ]
  },
  {
   "cell_type": "code",
   "execution_count": 46,
   "metadata": {},
   "outputs": [],
   "source": [
    "numdatos2010, datosmeteorologicos2010, primer_dia, ultimo_dia, estacion_nombre=datos_2010(32)"
   ]
  },
  {
   "cell_type": "markdown",
   "metadata": {},
   "source": [
    "Los valores finales de precipitación, temperatura máxima y mínima que vamos a registrar para el municipio de Mascota es el promedio de los datos correspondientes al año 2010 y el relleno. "
   ]
  },
  {
   "cell_type": "code",
   "execution_count": 47,
   "metadata": {},
   "outputs": [
    {
     "data": {
      "text/plain": [
       "PRCP     4.142254\n",
       "TMAX    27.960221\n",
       "TMIN     9.349926\n",
       "dtype: float64"
      ]
     },
     "execution_count": 47,
     "metadata": {},
     "output_type": "execute_result"
    }
   ],
   "source": [
    "(relleno_32*30+datosmeteorologicos2010*335)/365"
   ]
  },
  {
   "cell_type": "markdown",
   "metadata": {},
   "source": [
    "Esta fue la parte más laboriosa del proyecto, puesto que se tenía que buscar estación por estación cuántos datos había del año 2010 y rellenarlos con datos de otros años si hacía falta, además de investigar a qué municipio pertenecían las estaciones meteorólogicas, pues, en muchos casos, el nombre de la estación no coincide con el nombre del municipio. Los promedios anuales que obtuvimos en esta fase, según los criterios anteriormente mencionados, se encuentran en la hoja de cálculo "
   ]
  }
 ],
 "metadata": {
  "kernelspec": {
   "display_name": "Python 3",
   "language": "python",
   "name": "python3"
  },
  "language_info": {
   "codemirror_mode": {
    "name": "ipython",
    "version": 3
   },
   "file_extension": ".py",
   "mimetype": "text/x-python",
   "name": "python",
   "nbconvert_exporter": "python",
   "pygments_lexer": "ipython3",
   "version": "3.7.6"
  }
 },
 "nbformat": 4,
 "nbformat_minor": 4
}
