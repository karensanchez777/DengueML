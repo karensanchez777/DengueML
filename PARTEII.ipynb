{
 "cells": [
  {
   "cell_type": "markdown",
   "metadata": {},
   "source": [
    "# PARTE II: Algoritmos de aprendizaje supervisado y no supervisado aplicado a características socioeconómicas \n",
    "\n",
    "Empleamos el algoritmo K-Means para verificar si puede, o no, encontrar una estructura en los datos socioeconómicos de Jalisco que corresponda al nivel de dengue que hay por municipio. Posteriormente, cuando etiquetemos nuestros datos con tres categorías (muchos casos, varios casos y pocos casos), ejecutamos algoritmos de clasificación para evaluar su precisión. Finalmente, discutimos los resultados que obtuvimos."
   ]
  },
  {
   "cell_type": "code",
   "execution_count": 1,
   "metadata": {},
   "outputs": [],
   "source": [
    "import numpy as np\n",
    "import pandas as pd\n",
    "import matplotlib.pyplot as plt\n",
    "%matplotlib inline"
   ]
  },
  {
   "cell_type": "code",
   "execution_count": 2,
   "metadata": {},
   "outputs": [
    {
     "data": {
      "text/html": [
       "<div>\n",
       "<style scoped>\n",
       "    .dataframe tbody tr th:only-of-type {\n",
       "        vertical-align: middle;\n",
       "    }\n",
       "\n",
       "    .dataframe tbody tr th {\n",
       "        vertical-align: top;\n",
       "    }\n",
       "\n",
       "    .dataframe thead th {\n",
       "        text-align: right;\n",
       "    }\n",
       "</style>\n",
       "<table border=\"1\" class=\"dataframe\">\n",
       "  <thead>\n",
       "    <tr style=\"text-align: right;\">\n",
       "      <th></th>\n",
       "      <th>Municipio</th>\n",
       "      <th>Poblacion</th>\n",
       "      <th>Pobreza</th>\n",
       "      <th>AguaPotable</th>\n",
       "      <th>Casos</th>\n",
       "      <th>casosxmilhabs</th>\n",
       "      <th>promedio_habsxviv</th>\n",
       "    </tr>\n",
       "  </thead>\n",
       "  <tbody>\n",
       "    <tr>\n",
       "      <th>0</th>\n",
       "      <td>ACATIC</td>\n",
       "      <td>21206</td>\n",
       "      <td>10.42</td>\n",
       "      <td>79.73</td>\n",
       "      <td>0</td>\n",
       "      <td>0.000000</td>\n",
       "      <td>4.017323</td>\n",
       "    </tr>\n",
       "    <tr>\n",
       "      <th>1</th>\n",
       "      <td>ACATLÁN DE JUÁREZ</td>\n",
       "      <td>23241</td>\n",
       "      <td>2.18</td>\n",
       "      <td>97.68</td>\n",
       "      <td>5</td>\n",
       "      <td>0.215137</td>\n",
       "      <td>4.023378</td>\n",
       "    </tr>\n",
       "    <tr>\n",
       "      <th>2</th>\n",
       "      <td>AHUALULCO DE MERCADO</td>\n",
       "      <td>21714</td>\n",
       "      <td>3.78</td>\n",
       "      <td>98.27</td>\n",
       "      <td>0</td>\n",
       "      <td>0.000000</td>\n",
       "      <td>3.824176</td>\n",
       "    </tr>\n",
       "    <tr>\n",
       "      <th>3</th>\n",
       "      <td>AMACUECA</td>\n",
       "      <td>5545</td>\n",
       "      <td>5.50</td>\n",
       "      <td>98.55</td>\n",
       "      <td>1</td>\n",
       "      <td>0.180343</td>\n",
       "      <td>3.885025</td>\n",
       "    </tr>\n",
       "    <tr>\n",
       "      <th>4</th>\n",
       "      <td>AMATITÁN</td>\n",
       "      <td>14648</td>\n",
       "      <td>3.23</td>\n",
       "      <td>95.39</td>\n",
       "      <td>0</td>\n",
       "      <td>0.000000</td>\n",
       "      <td>4.210496</td>\n",
       "    </tr>\n",
       "    <tr>\n",
       "      <th>...</th>\n",
       "      <td>...</td>\n",
       "      <td>...</td>\n",
       "      <td>...</td>\n",
       "      <td>...</td>\n",
       "      <td>...</td>\n",
       "      <td>...</td>\n",
       "      <td>...</td>\n",
       "    </tr>\n",
       "    <tr>\n",
       "      <th>120</th>\n",
       "      <td>ZAPOTILTIC</td>\n",
       "      <td>29192</td>\n",
       "      <td>3.87</td>\n",
       "      <td>98.71</td>\n",
       "      <td>7</td>\n",
       "      <td>0.239792</td>\n",
       "      <td>3.857105</td>\n",
       "    </tr>\n",
       "    <tr>\n",
       "      <th>121</th>\n",
       "      <td>ZAPOTITLÁN DE VADILLO</td>\n",
       "      <td>6685</td>\n",
       "      <td>20.00</td>\n",
       "      <td>98.10</td>\n",
       "      <td>2</td>\n",
       "      <td>0.299177</td>\n",
       "      <td>4.000000</td>\n",
       "    </tr>\n",
       "    <tr>\n",
       "      <th>122</th>\n",
       "      <td>ZAPOTLÁN DEL REY</td>\n",
       "      <td>17585</td>\n",
       "      <td>7.87</td>\n",
       "      <td>98.03</td>\n",
       "      <td>0</td>\n",
       "      <td>0.000000</td>\n",
       "      <td>4.026273</td>\n",
       "    </tr>\n",
       "    <tr>\n",
       "      <th>123</th>\n",
       "      <td>ZAPOTLÁN EL GRANDE</td>\n",
       "      <td>100534</td>\n",
       "      <td>1.45</td>\n",
       "      <td>98.75</td>\n",
       "      <td>6</td>\n",
       "      <td>0.059681</td>\n",
       "      <td>3.925136</td>\n",
       "    </tr>\n",
       "    <tr>\n",
       "      <th>124</th>\n",
       "      <td>ZAPOTLANEJO</td>\n",
       "      <td>63636</td>\n",
       "      <td>11.30</td>\n",
       "      <td>84.36</td>\n",
       "      <td>3</td>\n",
       "      <td>0.047143</td>\n",
       "      <td>4.039339</td>\n",
       "    </tr>\n",
       "  </tbody>\n",
       "</table>\n",
       "<p>125 rows × 7 columns</p>\n",
       "</div>"
      ],
      "text/plain": [
       "                 Municipio  Poblacion  Pobreza  AguaPotable  Casos  \\\n",
       "0                   ACATIC      21206    10.42        79.73      0   \n",
       "1        ACATLÁN DE JUÁREZ      23241     2.18        97.68      5   \n",
       "2     AHUALULCO DE MERCADO      21714     3.78        98.27      0   \n",
       "3                 AMACUECA       5545     5.50        98.55      1   \n",
       "4                 AMATITÁN      14648     3.23        95.39      0   \n",
       "..                     ...        ...      ...          ...    ...   \n",
       "120             ZAPOTILTIC      29192     3.87        98.71      7   \n",
       "121  ZAPOTITLÁN DE VADILLO       6685    20.00        98.10      2   \n",
       "122       ZAPOTLÁN DEL REY      17585     7.87        98.03      0   \n",
       "123     ZAPOTLÁN EL GRANDE     100534     1.45        98.75      6   \n",
       "124            ZAPOTLANEJO      63636    11.30        84.36      3   \n",
       "\n",
       "     casosxmilhabs  promedio_habsxviv  \n",
       "0         0.000000           4.017323  \n",
       "1         0.215137           4.023378  \n",
       "2         0.000000           3.824176  \n",
       "3         0.180343           3.885025  \n",
       "4         0.000000           4.210496  \n",
       "..             ...                ...  \n",
       "120       0.239792           3.857105  \n",
       "121       0.299177           4.000000  \n",
       "122       0.000000           4.026273  \n",
       "123       0.059681           3.925136  \n",
       "124       0.047143           4.039339  \n",
       "\n",
       "[125 rows x 7 columns]"
      ]
     },
     "execution_count": 2,
     "metadata": {},
     "output_type": "execute_result"
    }
   ],
   "source": [
    "df=pd.read_csv('datos/dengue0.csv')\n",
    "df"
   ]
  },
  {
   "cell_type": "markdown",
   "metadata": {},
   "source": [
    "Guardamos las características socioeconómicas en el siguiente arreglo:"
   ]
  },
  {
   "cell_type": "code",
   "execution_count": 3,
   "metadata": {},
   "outputs": [],
   "source": [
    "X = np.array(df[[\"Pobreza\",\"AguaPotable\",\"promedio_habsxviv\"]])"
   ]
  },
  {
   "cell_type": "code",
   "execution_count": 4,
   "metadata": {},
   "outputs": [
    {
     "data": {
      "text/plain": [
       "(125, 3)"
      ]
     },
     "execution_count": 4,
     "metadata": {},
     "output_type": "execute_result"
    }
   ],
   "source": [
    "X.shape"
   ]
  },
  {
   "cell_type": "markdown",
   "metadata": {},
   "source": [
    "## Aprendizaje no supervisado: Clustering\n",
    "\n",
    "Clustering, a diferencia del aprendizaje supervisado, es un aprendizaje basado en la observación y no en ejemplos. Los puntos dentro de un grupo o _cluster_ deben tener características muy similares, mientras que los puntos de diferentes grupos deben ser tan diferentes como sea posible. \n",
    "\n",
    "### K-Means\n",
    "K-Means es un algoritmo de clustering cuyo objetivo es formar k grupos:\n",
    "1. Asigna k centroides aleatoriamente.\n",
    "2. Se asigna cada punto al centroide más cercano y se forman k grupos.\n",
    "3. Se calcula la media de cada grupo de puntos y este es el nuevo centroide.    \n",
    "\n",
    "Los pasos 2 y 3 se repiten hasta que todos los puntos del conjunto de datos estén dentro de la frontera del centroide más cercano.\n",
    "\n",
    "Una vez obtenidos los centroides finales con el conjunto de entrenamiento se analizan sus características para generar una etiqueta única para cada grupo. Los nuevos datos se asignan al centroide más cercano de los k grupos."
   ]
  },
  {
   "cell_type": "code",
   "execution_count": 5,
   "metadata": {},
   "outputs": [],
   "source": [
    "from sklearn.cluster import KMeans\n",
    "from sklearn.metrics import pairwise_distances_argmin_min"
   ]
  },
  {
   "cell_type": "markdown",
   "metadata": {},
   "source": [
    "#### Método del codo y la silueta\n",
    "El algoritmo K-Means necesita como datos de entrada el número de grupos que deseamos formar, para lo cual empleamos el método del codo y la silueta.\n",
    "\n",
    "**Metodo del codo**. Encuentra el número de centroides óptimo. A medida que el número de centroides aumenta, la suma de la distancia cuadrada de los puntos a su centroide disminuye, hasta llegar al punto donde hace un codo y este corresponde al número óptimo de grupos. "
   ]
  },
  {
   "cell_type": "code",
   "execution_count": 6,
   "metadata": {},
   "outputs": [
    {
     "data": {
      "image/png": "[encoded data removed]",
      "text/plain": [
       "<Figure size 432x288 with 1 Axes>"
      ]
     },
     "metadata": {
      "needs_background": "light"
     },
     "output_type": "display_data"
    }
   ],
   "source": [
    "Nc = range(1, 10)\n",
    "kmeans = [KMeans(n_clusters=i) for i in Nc]\n",
    "kmeans\n",
    "score = [kmeans[i].fit(X).score(X) for i in range(len(kmeans))]\n",
    "score\n",
    "plt.plot(Nc,score)\n",
    "plt.xlabel('Número de grupos')\n",
    "plt.ylabel('Score')\n",
    "plt.title('Método del codo')\n",
    "plt.show()"
   ]
  },
  {
   "cell_type": "markdown",
   "metadata": {},
   "source": [
    "El número de grupos óptimo podría ser, por tanto, 2 o 3. "
   ]
  },
  {
   "cell_type": "markdown",
   "metadata": {},
   "source": [
    "**Método la silueta**. El coeficiente de la silueta, $s(i)$, mide qué tan parecido es un dato a su propio grupo en comparación a los demás. Está dado por:\n",
    "$$s(i)=\\frac{b(i)-a(i)}{\\max\\{a(i),b(i)\\}}$$\n",
    "por tanto, \n",
    "$$s(i)\\in [-1,1]$$\n",
    "$a(i)$ es la distancia media de $i$ a todos los demás puntos que pertencen a su clúster.  \n",
    "$b(i)$ es el mínimo de las distancias medias de $i$ a los puntos que pertencen a un clúster diferente al suyo. Se toma el mínimo, pues queremos saber qué tan cerca está el punto $i$ de otro clúster. Lo deseado sería tener un valor grande de $b(i)$ comparado con el de $a(i)$, ya que esto significaría que el punto $i$ está muy separado de los clústeres a los que no pertenece.  \n",
    "\n",
    "Así, lo ideal sería que todos los puntos de nuestro conjunto de datos tuvieran un coeficiente de silueta cercano a 1; esto nos diría qué tan acertada fue nuestra elección del número de clústeres.  "
   ]
  },
  {
   "cell_type": "code",
   "execution_count": 7,
   "metadata": {},
   "outputs": [],
   "source": [
    "from sklearn.metrics import silhouette_score"
   ]
  },
  {
   "cell_type": "code",
   "execution_count": 8,
   "metadata": {},
   "outputs": [
    {
     "name": "stdout",
     "output_type": "stream",
     "text": [
      "For n_clusters = 2 The average silhouette_score is : 0.7243689809612109\n",
      "For n_clusters = 3 The average silhouette_score is : 0.4779365549674839\n",
      "For n_clusters = 4 The average silhouette_score is : 0.47598678929449584\n",
      "For n_clusters = 5 The average silhouette_score is : 0.47713152744919546\n",
      "For n_clusters = 6 The average silhouette_score is : 0.398837041786555\n"
     ]
    },
    {
     "data": {
      "text/plain": [
       "Text(0, 0.5, 'Media de los coeficientes de silueta')"
      ]
     },
     "execution_count": 8,
     "metadata": {},
     "output_type": "execute_result"
    },
    {
     "data": {
      "image/png": "[encoded data removed]",
      "text/plain": [
       "<Figure size 432x288 with 1 Axes>"
      ]
     },
     "metadata": {
      "needs_background": "light"
     },
     "output_type": "display_data"
    }
   ],
   "source": [
    "range_n_clusters = [2, 3, 4, 5, 6]\n",
    "SILH_AVG=[]\n",
    "for n_clusters in range_n_clusters:\n",
    "    clusterer = KMeans(n_clusters=n_clusters)\n",
    "    cluster_labels = clusterer.fit_predict(X)\n",
    "    silhouette_avg = silhouette_score(X, cluster_labels)\n",
    "    print(\"For n_clusters =\", n_clusters,\n",
    "          \"The average silhouette_score is :\", silhouette_avg)\n",
    "    SILH_AVG.append(silhouette_avg)\n",
    "plt.plot(range_n_clusters, SILH_AVG)\n",
    "plt.xlabel('k')\n",
    "plt.ylabel('Media de los coeficientes de silueta')"
   ]
  },
  {
   "cell_type": "markdown",
   "metadata": {},
   "source": [
    "Elegimos 2 como el número de grupos óptimo."
   ]
  },
  {
   "cell_type": "markdown",
   "metadata": {},
   "source": [
    "#### Ejecutamos K-Means.\n",
    "\n",
    "Especificamos el número de clusters y ajustamos el modelo a los datos de entrenamiento:"
   ]
  },
  {
   "cell_type": "code",
   "execution_count": 9,
   "metadata": {},
   "outputs": [],
   "source": [
    "kmeans=KMeans(n_clusters=2).fit(X)"
   ]
  },
  {
   "cell_type": "markdown",
   "metadata": {},
   "source": [
    "Predecimos el cluster más cercano a cada punto de X"
   ]
  },
  {
   "cell_type": "code",
   "execution_count": 10,
   "metadata": {},
   "outputs": [],
   "source": [
    "labels = kmeans.predict(X)"
   ]
  },
  {
   "cell_type": "markdown",
   "metadata": {},
   "source": [
    "Obtenemos las coordenadas de los centros de los clusters"
   ]
  },
  {
   "cell_type": "code",
   "execution_count": 11,
   "metadata": {},
   "outputs": [],
   "source": [
    "centroides=kmeans.cluster_centers_"
   ]
  },
  {
   "cell_type": "markdown",
   "metadata": {},
   "source": [
    "#### Visualización 3D\n",
    "Graficamos los grupos que obtuvo K-Means"
   ]
  },
  {
   "cell_type": "code",
   "execution_count": 12,
   "metadata": {},
   "outputs": [],
   "source": [
    "from mpl_toolkits.mplot3d import Axes3D"
   ]
  },
  {
   "cell_type": "code",
   "execution_count": 13,
   "metadata": {},
   "outputs": [
    {
     "data": {
      "text/plain": [
       "Text(0.5, 0, 'promedio de habitantes por vivienda')"
      ]
     },
     "execution_count": 13,
     "metadata": {},
     "output_type": "execute_result"
    },
    {
     "data": {
      "image/png": "[encoded data removed]",
      "text/plain": [
       "<Figure size 864x864 with 1 Axes>"
      ]
     },
     "metadata": {
      "needs_background": "light"
     },
     "output_type": "display_data"
    }
   ],
   "source": [
    "colores_kmeans=['blue','cyan']\n",
    "asignar=[]\n",
    "for row in labels:\n",
    "    asignar.append(colores_kmeans[row])\n",
    "fig = plt.figure(figsize=(12, 12))\n",
    "ax = fig.add_subplot(111,  projection='3d')\n",
    "ax.scatter(X[:,0], X[:,1], X[:,2], c=asignar, s=60)\n",
    "ax.scatter(centroides[:,0], centroides[:,1], centroides[:,2], c=colores_kmeans, s=100, marker='*' )\n",
    "ax.set_xlabel('% de pobreza extrema')\n",
    "ax.set_ylabel('% de cobertura del servicio de agua potable')\n",
    "ax.set_zlabel('promedio de habitantes por vivienda')"
   ]
  },
  {
   "cell_type": "markdown",
   "metadata": {},
   "source": [
    "## Categorias\n",
    "Etiquetamos los datos de acuerdo al nivel de dengue: muchos casos (2), varios casos (1), pocos casos (0)"
   ]
  },
  {
   "cell_type": "code",
   "execution_count": 14,
   "metadata": {},
   "outputs": [],
   "source": [
    "categoria = []\n",
    "for i in range((len(df['casosxmilhabs']))):\n",
    "    if df['casosxmilhabs'][i]<=.1:\n",
    "        categoria=np.append(categoria,0)\n",
    "    elif .1<df['casosxmilhabs'][i]<=.5:\n",
    "        categoria=np.append(categoria,1)\n",
    "    else:\n",
    "        categoria=np.append(categoria,2)"
   ]
  },
  {
   "cell_type": "code",
   "execution_count": 15,
   "metadata": {},
   "outputs": [],
   "source": [
    "categoria= categoria.astype(np.int64)"
   ]
  },
  {
   "cell_type": "code",
   "execution_count": 16,
   "metadata": {},
   "outputs": [],
   "source": [
    "df_categoria=pd.DataFrame(categoria,columns=['Categoria'])"
   ]
  },
  {
   "cell_type": "code",
   "execution_count": 17,
   "metadata": {},
   "outputs": [
    {
     "data": {
      "text/html": [
       "<div>\n",
       "<style scoped>\n",
       "    .dataframe tbody tr th:only-of-type {\n",
       "        vertical-align: middle;\n",
       "    }\n",
       "\n",
       "    .dataframe tbody tr th {\n",
       "        vertical-align: top;\n",
       "    }\n",
       "\n",
       "    .dataframe thead th {\n",
       "        text-align: right;\n",
       "    }\n",
       "</style>\n",
       "<table border=\"1\" class=\"dataframe\">\n",
       "  <thead>\n",
       "    <tr style=\"text-align: right;\">\n",
       "      <th></th>\n",
       "      <th>Categoria</th>\n",
       "    </tr>\n",
       "  </thead>\n",
       "  <tbody>\n",
       "    <tr>\n",
       "      <th>0</th>\n",
       "      <td>0</td>\n",
       "    </tr>\n",
       "    <tr>\n",
       "      <th>1</th>\n",
       "      <td>1</td>\n",
       "    </tr>\n",
       "    <tr>\n",
       "      <th>2</th>\n",
       "      <td>0</td>\n",
       "    </tr>\n",
       "    <tr>\n",
       "      <th>3</th>\n",
       "      <td>1</td>\n",
       "    </tr>\n",
       "    <tr>\n",
       "      <th>4</th>\n",
       "      <td>0</td>\n",
       "    </tr>\n",
       "    <tr>\n",
       "      <th>...</th>\n",
       "      <td>...</td>\n",
       "    </tr>\n",
       "    <tr>\n",
       "      <th>120</th>\n",
       "      <td>1</td>\n",
       "    </tr>\n",
       "    <tr>\n",
       "      <th>121</th>\n",
       "      <td>1</td>\n",
       "    </tr>\n",
       "    <tr>\n",
       "      <th>122</th>\n",
       "      <td>0</td>\n",
       "    </tr>\n",
       "    <tr>\n",
       "      <th>123</th>\n",
       "      <td>0</td>\n",
       "    </tr>\n",
       "    <tr>\n",
       "      <th>124</th>\n",
       "      <td>0</td>\n",
       "    </tr>\n",
       "  </tbody>\n",
       "</table>\n",
       "<p>125 rows × 1 columns</p>\n",
       "</div>"
      ],
      "text/plain": [
       "     Categoria\n",
       "0            0\n",
       "1            1\n",
       "2            0\n",
       "3            1\n",
       "4            0\n",
       "..         ...\n",
       "120          1\n",
       "121          1\n",
       "122          0\n",
       "123          0\n",
       "124          0\n",
       "\n",
       "[125 rows x 1 columns]"
      ]
     },
     "execution_count": 17,
     "metadata": {},
     "output_type": "execute_result"
    }
   ],
   "source": [
    "df_categoria"
   ]
  },
  {
   "cell_type": "code",
   "execution_count": 18,
   "metadata": {},
   "outputs": [],
   "source": [
    "df = pd.concat([df, df_categoria], axis=1, sort=False)"
   ]
  },
  {
   "cell_type": "code",
   "execution_count": 19,
   "metadata": {},
   "outputs": [
    {
     "data": {
      "text/html": [
       "<div>\n",
       "<style scoped>\n",
       "    .dataframe tbody tr th:only-of-type {\n",
       "        vertical-align: middle;\n",
       "    }\n",
       "\n",
       "    .dataframe tbody tr th {\n",
       "        vertical-align: top;\n",
       "    }\n",
       "\n",
       "    .dataframe thead th {\n",
       "        text-align: right;\n",
       "    }\n",
       "</style>\n",
       "<table border=\"1\" class=\"dataframe\">\n",
       "  <thead>\n",
       "    <tr style=\"text-align: right;\">\n",
       "      <th></th>\n",
       "      <th>Municipio</th>\n",
       "      <th>Poblacion</th>\n",
       "      <th>Pobreza</th>\n",
       "      <th>AguaPotable</th>\n",
       "      <th>Casos</th>\n",
       "      <th>casosxmilhabs</th>\n",
       "      <th>promedio_habsxviv</th>\n",
       "      <th>Categoria</th>\n",
       "    </tr>\n",
       "  </thead>\n",
       "  <tbody>\n",
       "    <tr>\n",
       "      <th>0</th>\n",
       "      <td>ACATIC</td>\n",
       "      <td>21206</td>\n",
       "      <td>10.42</td>\n",
       "      <td>79.73</td>\n",
       "      <td>0</td>\n",
       "      <td>0.000000</td>\n",
       "      <td>4.017323</td>\n",
       "      <td>0</td>\n",
       "    </tr>\n",
       "    <tr>\n",
       "      <th>1</th>\n",
       "      <td>ACATLÁN DE JUÁREZ</td>\n",
       "      <td>23241</td>\n",
       "      <td>2.18</td>\n",
       "      <td>97.68</td>\n",
       "      <td>5</td>\n",
       "      <td>0.215137</td>\n",
       "      <td>4.023378</td>\n",
       "      <td>1</td>\n",
       "    </tr>\n",
       "    <tr>\n",
       "      <th>2</th>\n",
       "      <td>AHUALULCO DE MERCADO</td>\n",
       "      <td>21714</td>\n",
       "      <td>3.78</td>\n",
       "      <td>98.27</td>\n",
       "      <td>0</td>\n",
       "      <td>0.000000</td>\n",
       "      <td>3.824176</td>\n",
       "      <td>0</td>\n",
       "    </tr>\n",
       "    <tr>\n",
       "      <th>3</th>\n",
       "      <td>AMACUECA</td>\n",
       "      <td>5545</td>\n",
       "      <td>5.50</td>\n",
       "      <td>98.55</td>\n",
       "      <td>1</td>\n",
       "      <td>0.180343</td>\n",
       "      <td>3.885025</td>\n",
       "      <td>1</td>\n",
       "    </tr>\n",
       "    <tr>\n",
       "      <th>4</th>\n",
       "      <td>AMATITÁN</td>\n",
       "      <td>14648</td>\n",
       "      <td>3.23</td>\n",
       "      <td>95.39</td>\n",
       "      <td>0</td>\n",
       "      <td>0.000000</td>\n",
       "      <td>4.210496</td>\n",
       "      <td>0</td>\n",
       "    </tr>\n",
       "    <tr>\n",
       "      <th>...</th>\n",
       "      <td>...</td>\n",
       "      <td>...</td>\n",
       "      <td>...</td>\n",
       "      <td>...</td>\n",
       "      <td>...</td>\n",
       "      <td>...</td>\n",
       "      <td>...</td>\n",
       "      <td>...</td>\n",
       "    </tr>\n",
       "    <tr>\n",
       "      <th>120</th>\n",
       "      <td>ZAPOTILTIC</td>\n",
       "      <td>29192</td>\n",
       "      <td>3.87</td>\n",
       "      <td>98.71</td>\n",
       "      <td>7</td>\n",
       "      <td>0.239792</td>\n",
       "      <td>3.857105</td>\n",
       "      <td>1</td>\n",
       "    </tr>\n",
       "    <tr>\n",
       "      <th>121</th>\n",
       "      <td>ZAPOTITLÁN DE VADILLO</td>\n",
       "      <td>6685</td>\n",
       "      <td>20.00</td>\n",
       "      <td>98.10</td>\n",
       "      <td>2</td>\n",
       "      <td>0.299177</td>\n",
       "      <td>4.000000</td>\n",
       "      <td>1</td>\n",
       "    </tr>\n",
       "    <tr>\n",
       "      <th>122</th>\n",
       "      <td>ZAPOTLÁN DEL REY</td>\n",
       "      <td>17585</td>\n",
       "      <td>7.87</td>\n",
       "      <td>98.03</td>\n",
       "      <td>0</td>\n",
       "      <td>0.000000</td>\n",
       "      <td>4.026273</td>\n",
       "      <td>0</td>\n",
       "    </tr>\n",
       "    <tr>\n",
       "      <th>123</th>\n",
       "      <td>ZAPOTLÁN EL GRANDE</td>\n",
       "      <td>100534</td>\n",
       "      <td>1.45</td>\n",
       "      <td>98.75</td>\n",
       "      <td>6</td>\n",
       "      <td>0.059681</td>\n",
       "      <td>3.925136</td>\n",
       "      <td>0</td>\n",
       "    </tr>\n",
       "    <tr>\n",
       "      <th>124</th>\n",
       "      <td>ZAPOTLANEJO</td>\n",
       "      <td>63636</td>\n",
       "      <td>11.30</td>\n",
       "      <td>84.36</td>\n",
       "      <td>3</td>\n",
       "      <td>0.047143</td>\n",
       "      <td>4.039339</td>\n",
       "      <td>0</td>\n",
       "    </tr>\n",
       "  </tbody>\n",
       "</table>\n",
       "<p>125 rows × 8 columns</p>\n",
       "</div>"
      ],
      "text/plain": [
       "                 Municipio  Poblacion  Pobreza  AguaPotable  Casos  \\\n",
       "0                   ACATIC      21206    10.42        79.73      0   \n",
       "1        ACATLÁN DE JUÁREZ      23241     2.18        97.68      5   \n",
       "2     AHUALULCO DE MERCADO      21714     3.78        98.27      0   \n",
       "3                 AMACUECA       5545     5.50        98.55      1   \n",
       "4                 AMATITÁN      14648     3.23        95.39      0   \n",
       "..                     ...        ...      ...          ...    ...   \n",
       "120             ZAPOTILTIC      29192     3.87        98.71      7   \n",
       "121  ZAPOTITLÁN DE VADILLO       6685    20.00        98.10      2   \n",
       "122       ZAPOTLÁN DEL REY      17585     7.87        98.03      0   \n",
       "123     ZAPOTLÁN EL GRANDE     100534     1.45        98.75      6   \n",
       "124            ZAPOTLANEJO      63636    11.30        84.36      3   \n",
       "\n",
       "     casosxmilhabs  promedio_habsxviv  Categoria  \n",
       "0         0.000000           4.017323          0  \n",
       "1         0.215137           4.023378          1  \n",
       "2         0.000000           3.824176          0  \n",
       "3         0.180343           3.885025          1  \n",
       "4         0.000000           4.210496          0  \n",
       "..             ...                ...        ...  \n",
       "120       0.239792           3.857105          1  \n",
       "121       0.299177           4.000000          1  \n",
       "122       0.000000           4.026273          0  \n",
       "123       0.059681           3.925136          0  \n",
       "124       0.047143           4.039339          0  \n",
       "\n",
       "[125 rows x 8 columns]"
      ]
     },
     "execution_count": 19,
     "metadata": {},
     "output_type": "execute_result"
    }
   ],
   "source": [
    "df"
   ]
  },
  {
   "cell_type": "code",
   "execution_count": 21,
   "metadata": {},
   "outputs": [],
   "source": [
    "# df.to_csv('datos/dengue1.csv', encoding='utf-8', index=False) # se utiliza en la parte IV"
   ]
  },
  {
   "cell_type": "code",
   "execution_count": 22,
   "metadata": {},
   "outputs": [
    {
     "data": {
      "text/plain": [
       "Text(0.5, 1.0, 'Categorías')"
      ]
     },
     "execution_count": 22,
     "metadata": {},
     "output_type": "execute_result"
    },
    {
     "data": {
      "image/png": "[encoded data removed]",
      "text/plain": [
       "<Figure size 432x288 with 1 Axes>"
      ]
     },
     "metadata": {
      "needs_background": "light"
     },
     "output_type": "display_data"
    }
   ],
   "source": [
    "plt.hist(df['Categoria'])\n",
    "plt.title('Categorías')"
   ]
  },
  {
   "cell_type": "markdown",
   "metadata": {},
   "source": [
    "Observamos que hay un desbalance de datos: la mayoria de los datos pertenece a la categoría 0. "
   ]
  },
  {
   "cell_type": "markdown",
   "metadata": {},
   "source": [
    "#### Visualización 3D\n",
    "\n",
    "Distribución de las categorias en el espacio de los atributos socioeconómicos. Un nivel alto, moderado y bajo de casos de dengue corresponden a los colores rojo, naranja y verde, respectivamente."
   ]
  },
  {
   "cell_type": "code",
   "execution_count": 23,
   "metadata": {},
   "outputs": [
    {
     "data": {
      "text/plain": [
       "Text(0.5, 0, 'promedio de habs. por vivienda')"
      ]
     },
     "execution_count": 23,
     "metadata": {},
     "output_type": "execute_result"
    },
    {
     "data": {
      "image/png": "[encoded data removed]",
      "text/plain": [
       "<Figure size 720x720 with 1 Axes>"
      ]
     },
     "metadata": {
      "needs_background": "light"
     },
     "output_type": "display_data"
    }
   ],
   "source": [
    "fig = plt.figure(figsize=(10, 10))\n",
    "ax = fig.add_subplot(111,  projection='3d')\n",
    "colores=['green','orange','red']\n",
    "asignar=[]\n",
    "for row in categoria:\n",
    "    asignar.append(colores[row])\n",
    "ax.scatter(X[:,0], X[:,1],X[:,2], c=asignar, s=60)\n",
    "ax.set_xlabel('pobreza extrema (%)')\n",
    "ax.set_ylabel('cobertura del servicio de agua potable (%)')\n",
    "ax.set_zlabel('promedio de habs. por vivienda')"
   ]
  },
  {
   "cell_type": "markdown",
   "metadata": {},
   "source": [
    "En los dos grupos que formó K-Means veamos cuántos datos de cada hay "
   ]
  },
  {
   "cell_type": "code",
   "execution_count": 24,
   "metadata": {},
   "outputs": [
    {
     "data": {
      "text/html": [
       "<div>\n",
       "<style scoped>\n",
       "    .dataframe tbody tr th:only-of-type {\n",
       "        vertical-align: middle;\n",
       "    }\n",
       "\n",
       "    .dataframe tbody tr th {\n",
       "        vertical-align: top;\n",
       "    }\n",
       "\n",
       "    .dataframe thead th {\n",
       "        text-align: right;\n",
       "    }\n",
       "</style>\n",
       "<table border=\"1\" class=\"dataframe\">\n",
       "  <thead>\n",
       "    <tr style=\"text-align: right;\">\n",
       "      <th></th>\n",
       "      <th>color</th>\n",
       "      <th>cantidad</th>\n",
       "    </tr>\n",
       "  </thead>\n",
       "  <tbody>\n",
       "    <tr>\n",
       "      <th>0</th>\n",
       "      <td>blue</td>\n",
       "      <td>112</td>\n",
       "    </tr>\n",
       "    <tr>\n",
       "      <th>1</th>\n",
       "      <td>cyan</td>\n",
       "      <td>13</td>\n",
       "    </tr>\n",
       "  </tbody>\n",
       "</table>\n",
       "</div>"
      ],
      "text/plain": [
       "  color  cantidad\n",
       "0  blue       112\n",
       "1  cyan        13"
      ]
     },
     "execution_count": 24,
     "metadata": {},
     "output_type": "execute_result"
    }
   ],
   "source": [
    "#Veamos cuántos puntos contiene cada grupo \n",
    "copy=pd.DataFrame()\n",
    "copy['Municipio']=df['Municipio'].values\n",
    "copy['Categoria']=df['Categoria'].values\n",
    "copy['label'] = labels;\n",
    "cantidadGrupo =  pd.DataFrame()\n",
    "cantidadGrupo['color']=colores_kmeans\n",
    "cantidadGrupo['cantidad']=copy.groupby('label').size()\n",
    "cantidadGrupo"
   ]
  },
  {
   "cell_type": "code",
   "execution_count": 25,
   "metadata": {},
   "outputs": [
    {
     "name": "stdout",
     "output_type": "stream",
     "text": [
      "Diversidad del grupo 0 (blue) \n",
      "   categoria  cantidad\n",
      "0          0        81\n",
      "1          1        17\n",
      "2          2        14\n",
      "Diversidad del grupo 1 (cyan) \n",
      "   categoria  cantidad\n",
      "0          0        10\n",
      "1          1         1\n",
      "2          2         2\n"
     ]
    }
   ],
   "source": [
    "# Veamos la diversidad del nivel de casos (0-->leve,1-->moderado,2-->alto) que hay en cada grupo.\n",
    "for i in range(2):\n",
    "    group_referrer_index = copy['label'] ==i\n",
    "    group_referrals = copy[group_referrer_index]\n",
    "    diversidad =  pd.DataFrame()\n",
    "    diversidad['categoria']=[0,1,2]\n",
    "    diversidad['cantidad']=group_referrals.groupby('Categoria').size()\n",
    "    print ('Diversidad del grupo %d (%s) ' % (i,colores_kmeans[i]))\n",
    "    print (diversidad)"
   ]
  },
  {
   "cell_type": "markdown",
   "metadata": {},
   "source": [
    "## Aprendizaje supervisado: Clasificación\n",
    "\n",
    "En este tipo de aprendizaje al algoritmo le debemos dar la variable objetivo $y$, que, en este caso, es la  variable `Categoria`.\n",
    "Como el número de categorías es finito, se trata de una tarea de clasificación. Los algoritmos de clasificación que emplearemos son: \n",
    "* Regresión Logística\n",
    "* kNN\n",
    "* SVM\n",
    "* Kernel SVM\n",
    "* Naïve Bayes\n",
    "* Árbol de decisión\n",
    "* Clasificación de Random Forest"
   ]
  },
  {
   "cell_type": "code",
   "execution_count": 26,
   "metadata": {},
   "outputs": [
    {
     "data": {
      "text/plain": [
       "0      0\n",
       "1      1\n",
       "2      0\n",
       "3      1\n",
       "4      0\n",
       "      ..\n",
       "120    1\n",
       "121    1\n",
       "122    0\n",
       "123    0\n",
       "124    0\n",
       "Name: Categoria, Length: 125, dtype: int64"
      ]
     },
     "execution_count": 26,
     "metadata": {},
     "output_type": "execute_result"
    }
   ],
   "source": [
    "y=df.Categoria #variable objetivo\n",
    "y"
   ]
  },
  {
   "cell_type": "code",
   "execution_count": 27,
   "metadata": {},
   "outputs": [],
   "source": [
    "from sklearn.model_selection import train_test_split # Dividir los datos en un conjunto de entrenamiento y un conjunto de validación\n",
    "X_train, X_test, y_train, y_test=train_test_split(X,y,test_size=0.10, random_state=1)"
   ]
  },
  {
   "cell_type": "code",
   "execution_count": 28,
   "metadata": {},
   "outputs": [],
   "source": [
    "from sklearn.preprocessing import StandardScaler # Normalizar los datos\n",
    "sc=StandardScaler()\n",
    "X_train=sc.fit_transform(X_train)\n",
    "X_test=sc.transform(X_test)"
   ]
  },
  {
   "cell_type": "code",
   "execution_count": 29,
   "metadata": {},
   "outputs": [],
   "source": [
    "precision = [] #en esta lista se guardará la precisión de cada modelo"
   ]
  },
  {
   "cell_type": "markdown",
   "metadata": {},
   "source": [
    "### 1. Regresión Logística"
   ]
  },
  {
   "cell_type": "code",
   "execution_count": 30,
   "metadata": {},
   "outputs": [],
   "source": [
    "from sklearn.linear_model import LogisticRegression"
   ]
  },
  {
   "cell_type": "code",
   "execution_count": 31,
   "metadata": {},
   "outputs": [
    {
     "data": {
      "text/plain": [
       "LogisticRegression(C=1.0, class_weight=None, dual=False, fit_intercept=True,\n",
       "                   intercept_scaling=1, l1_ratio=None, max_iter=100,\n",
       "                   multi_class='auto', n_jobs=None, penalty='l2',\n",
       "                   random_state=0, solver='lbfgs', tol=0.0001, verbose=0,\n",
       "                   warm_start=False)"
      ]
     },
     "execution_count": 31,
     "metadata": {},
     "output_type": "execute_result"
    }
   ],
   "source": [
    "classifier = LogisticRegression(random_state = 0) #definir el modelo\n",
    "classifier.fit(X_train, y_train) # ajustar el modelo"
   ]
  },
  {
   "cell_type": "code",
   "execution_count": 32,
   "metadata": {},
   "outputs": [],
   "source": [
    "y_pred = classifier.predict(X_test) # predecir los valores"
   ]
  },
  {
   "cell_type": "code",
   "execution_count": 33,
   "metadata": {},
   "outputs": [],
   "source": [
    "from sklearn.metrics import confusion_matrix"
   ]
  },
  {
   "cell_type": "code",
   "execution_count": 34,
   "metadata": {},
   "outputs": [],
   "source": [
    "from sklearn.metrics import plot_confusion_matrix"
   ]
  },
  {
   "cell_type": "code",
   "execution_count": 35,
   "metadata": {},
   "outputs": [
    {
     "data": {
      "image/png": "[encoded data removed]",
      "text/plain": [
       "<Figure size 432x288 with 2 Axes>"
      ]
     },
     "metadata": {
      "needs_background": "light"
     },
     "output_type": "display_data"
    }
   ],
   "source": [
    "plot_confusion_matrix(classifier,X_test,y_test)\n",
    "plt.show()"
   ]
  },
  {
   "cell_type": "code",
   "execution_count": 36,
   "metadata": {},
   "outputs": [
    {
     "data": {
      "text/plain": [
       "array([[9, 0, 0],\n",
       "       [1, 0, 0],\n",
       "       [3, 0, 0]], dtype=int64)"
      ]
     },
     "execution_count": 36,
     "metadata": {},
     "output_type": "execute_result"
    }
   ],
   "source": [
    "cm = confusion_matrix(y_test, y_pred)\n",
    "cm"
   ]
  },
  {
   "cell_type": "code",
   "execution_count": 37,
   "metadata": {},
   "outputs": [
    {
     "data": {
      "text/plain": [
       "[0.6923076923076923]"
      ]
     },
     "execution_count": 37,
     "metadata": {},
     "output_type": "execute_result"
    }
   ],
   "source": [
    "true_pred=cm[0,0]+cm[1,1]+cm[2,2]\n",
    "total_pred=y_test.size\n",
    "accuracy=true_pred/total_pred\n",
    "precision.append(accuracy)\n",
    "precision"
   ]
  },
  {
   "cell_type": "markdown",
   "metadata": {},
   "source": [
    "### 2. K-NEAREST NEIGHBORS"
   ]
  },
  {
   "cell_type": "code",
   "execution_count": 38,
   "metadata": {},
   "outputs": [],
   "source": [
    "from sklearn.neighbors import KNeighborsClassifier"
   ]
  },
  {
   "cell_type": "code",
   "execution_count": 39,
   "metadata": {},
   "outputs": [
    {
     "data": {
      "text/plain": [
       "KNeighborsClassifier(algorithm='auto', leaf_size=30, metric='minkowski',\n",
       "                     metric_params=None, n_jobs=None, n_neighbors=5, p=2,\n",
       "                     weights='uniform')"
      ]
     },
     "execution_count": 39,
     "metadata": {},
     "output_type": "execute_result"
    }
   ],
   "source": [
    "classifier = KNeighborsClassifier(n_neighbors = 5, metric = 'minkowski', p = 2)\n",
    "classifier.fit(X_train, y_train)"
   ]
  },
  {
   "cell_type": "code",
   "execution_count": 40,
   "metadata": {},
   "outputs": [],
   "source": [
    "y_pred = classifier.predict(X_test)"
   ]
  },
  {
   "cell_type": "code",
   "execution_count": 41,
   "metadata": {},
   "outputs": [
    {
     "data": {
      "text/plain": [
       "array([[9, 0, 0],\n",
       "       [1, 0, 0],\n",
       "       [3, 0, 0]], dtype=int64)"
      ]
     },
     "execution_count": 41,
     "metadata": {},
     "output_type": "execute_result"
    }
   ],
   "source": [
    "cm = confusion_matrix(y_test, y_pred)\n",
    "cm"
   ]
  },
  {
   "cell_type": "code",
   "execution_count": 42,
   "metadata": {},
   "outputs": [
    {
     "data": {
      "text/plain": [
       "[0.6923076923076923, 0.6923076923076923]"
      ]
     },
     "execution_count": 42,
     "metadata": {},
     "output_type": "execute_result"
    }
   ],
   "source": [
    "true_pred=cm[0,0]+cm[1,1]+cm[2,2]\n",
    "total_pred=y_test.size\n",
    "accuracy=true_pred/total_pred\n",
    "precision.append(accuracy)\n",
    "precision"
   ]
  },
  {
   "cell_type": "markdown",
   "metadata": {},
   "source": [
    "### 3. SUPORT VECTOR MACHINES"
   ]
  },
  {
   "cell_type": "code",
   "execution_count": 43,
   "metadata": {},
   "outputs": [],
   "source": [
    "from sklearn.svm import SVC"
   ]
  },
  {
   "cell_type": "code",
   "execution_count": 44,
   "metadata": {},
   "outputs": [
    {
     "data": {
      "text/plain": [
       "SVC(C=1.0, break_ties=False, cache_size=200, class_weight=None, coef0=0.0,\n",
       "    decision_function_shape='ovr', degree=3, gamma='scale', kernel='linear',\n",
       "    max_iter=-1, probability=False, random_state=0, shrinking=True, tol=0.001,\n",
       "    verbose=False)"
      ]
     },
     "execution_count": 44,
     "metadata": {},
     "output_type": "execute_result"
    }
   ],
   "source": [
    "classifier = SVC(kernel = 'linear', random_state = 0)\n",
    "classifier.fit(X_train, y_train)"
   ]
  },
  {
   "cell_type": "code",
   "execution_count": 45,
   "metadata": {},
   "outputs": [],
   "source": [
    "y_pred = classifier.predict(X_test)"
   ]
  },
  {
   "cell_type": "code",
   "execution_count": 46,
   "metadata": {},
   "outputs": [
    {
     "data": {
      "text/plain": [
       "array([[9, 0, 0],\n",
       "       [1, 0, 0],\n",
       "       [3, 0, 0]], dtype=int64)"
      ]
     },
     "execution_count": 46,
     "metadata": {},
     "output_type": "execute_result"
    }
   ],
   "source": [
    "cm = confusion_matrix(y_test, y_pred)\n",
    "cm"
   ]
  },
  {
   "cell_type": "code",
   "execution_count": 47,
   "metadata": {},
   "outputs": [
    {
     "data": {
      "text/plain": [
       "[0.6923076923076923, 0.6923076923076923, 0.6923076923076923]"
      ]
     },
     "execution_count": 47,
     "metadata": {},
     "output_type": "execute_result"
    }
   ],
   "source": [
    "true_pred=cm[0,0]+cm[1,1]+cm[2,2]\n",
    "total_pred=y_test.size\n",
    "accuracy=true_pred/total_pred\n",
    "precision.append(accuracy)\n",
    "precision"
   ]
  },
  {
   "cell_type": "markdown",
   "metadata": {},
   "source": [
    "### 4. KERNEL SVM"
   ]
  },
  {
   "cell_type": "code",
   "execution_count": 48,
   "metadata": {},
   "outputs": [],
   "source": [
    "from sklearn.svm import SVC"
   ]
  },
  {
   "cell_type": "code",
   "execution_count": 49,
   "metadata": {},
   "outputs": [
    {
     "data": {
      "text/plain": [
       "SVC(C=1.0, break_ties=False, cache_size=200, class_weight=None, coef0=0.0,\n",
       "    decision_function_shape='ovr', degree=3, gamma='scale', kernel='rbf',\n",
       "    max_iter=-1, probability=False, random_state=0, shrinking=True, tol=0.001,\n",
       "    verbose=False)"
      ]
     },
     "execution_count": 49,
     "metadata": {},
     "output_type": "execute_result"
    }
   ],
   "source": [
    "classifier = SVC(kernel = 'rbf', random_state = 0)\n",
    "classifier.fit(X_train, y_train)"
   ]
  },
  {
   "cell_type": "code",
   "execution_count": 50,
   "metadata": {},
   "outputs": [],
   "source": [
    "y_pred=classifier.predict(X_test)"
   ]
  },
  {
   "cell_type": "code",
   "execution_count": 51,
   "metadata": {},
   "outputs": [
    {
     "data": {
      "text/plain": [
       "array([[9, 0, 0],\n",
       "       [1, 0, 0],\n",
       "       [3, 0, 0]], dtype=int64)"
      ]
     },
     "execution_count": 51,
     "metadata": {},
     "output_type": "execute_result"
    }
   ],
   "source": [
    "cm=confusion_matrix(y_test,y_pred)\n",
    "cm"
   ]
  },
  {
   "cell_type": "code",
   "execution_count": 52,
   "metadata": {},
   "outputs": [
    {
     "data": {
      "text/plain": [
       "[0.6923076923076923,\n",
       " 0.6923076923076923,\n",
       " 0.6923076923076923,\n",
       " 0.6923076923076923]"
      ]
     },
     "execution_count": 52,
     "metadata": {},
     "output_type": "execute_result"
    }
   ],
   "source": [
    "true_pred=cm[0,0]+cm[1,1]+cm[2,2]\n",
    "total_pred=y_test.size\n",
    "accuracy=true_pred/total_pred\n",
    "precision.append(accuracy)\n",
    "precision"
   ]
  },
  {
   "cell_type": "markdown",
   "metadata": {},
   "source": [
    "### 5. Naïve Bayes"
   ]
  },
  {
   "cell_type": "code",
   "execution_count": 53,
   "metadata": {},
   "outputs": [],
   "source": [
    "from sklearn.naive_bayes import GaussianNB"
   ]
  },
  {
   "cell_type": "code",
   "execution_count": 54,
   "metadata": {},
   "outputs": [
    {
     "data": {
      "text/plain": [
       "GaussianNB(priors=None, var_smoothing=1e-09)"
      ]
     },
     "execution_count": 54,
     "metadata": {},
     "output_type": "execute_result"
    }
   ],
   "source": [
    "classifier = GaussianNB()\n",
    "classifier.fit(X_train, y_train)"
   ]
  },
  {
   "cell_type": "code",
   "execution_count": 55,
   "metadata": {},
   "outputs": [],
   "source": [
    "y_pred=classifier.predict(X_test)"
   ]
  },
  {
   "cell_type": "code",
   "execution_count": 56,
   "metadata": {},
   "outputs": [
    {
     "data": {
      "text/plain": [
       "array([[6, 3, 0],\n",
       "       [1, 0, 0],\n",
       "       [2, 1, 0]], dtype=int64)"
      ]
     },
     "execution_count": 56,
     "metadata": {},
     "output_type": "execute_result"
    }
   ],
   "source": [
    "cm=confusion_matrix(y_test,y_pred)\n",
    "cm"
   ]
  },
  {
   "cell_type": "code",
   "execution_count": 57,
   "metadata": {},
   "outputs": [
    {
     "data": {
      "text/plain": [
       "[0.6923076923076923,\n",
       " 0.6923076923076923,\n",
       " 0.6923076923076923,\n",
       " 0.6923076923076923,\n",
       " 0.46153846153846156]"
      ]
     },
     "execution_count": 57,
     "metadata": {},
     "output_type": "execute_result"
    }
   ],
   "source": [
    "true_pred=cm[0,0]+cm[1,1]+cm[2,2]\n",
    "total_pred=y_test.size\n",
    "accuracy=true_pred/total_pred\n",
    "precision.append(accuracy)\n",
    "precision"
   ]
  },
  {
   "cell_type": "markdown",
   "metadata": {},
   "source": [
    "### 6. Decision Tree Algorithm"
   ]
  },
  {
   "cell_type": "code",
   "execution_count": 58,
   "metadata": {},
   "outputs": [],
   "source": [
    "from sklearn.tree import DecisionTreeClassifier"
   ]
  },
  {
   "cell_type": "code",
   "execution_count": 59,
   "metadata": {},
   "outputs": [
    {
     "data": {
      "text/plain": [
       "DecisionTreeClassifier(ccp_alpha=0.0, class_weight=None, criterion='entropy',\n",
       "                       max_depth=None, max_features=None, max_leaf_nodes=None,\n",
       "                       min_impurity_decrease=0.0, min_impurity_split=None,\n",
       "                       min_samples_leaf=1, min_samples_split=2,\n",
       "                       min_weight_fraction_leaf=0.0, presort='deprecated',\n",
       "                       random_state=0, splitter='best')"
      ]
     },
     "execution_count": 59,
     "metadata": {},
     "output_type": "execute_result"
    }
   ],
   "source": [
    "classifier = DecisionTreeClassifier(criterion = 'entropy', random_state = 0)\n",
    "classifier.fit(X_train, y_train)"
   ]
  },
  {
   "cell_type": "code",
   "execution_count": 60,
   "metadata": {},
   "outputs": [],
   "source": [
    "y_predict=classifier.predict(X_test)"
   ]
  },
  {
   "cell_type": "code",
   "execution_count": 61,
   "metadata": {},
   "outputs": [
    {
     "data": {
      "text/plain": [
       "array([[8, 1, 0],\n",
       "       [0, 0, 1],\n",
       "       [0, 2, 1]], dtype=int64)"
      ]
     },
     "execution_count": 61,
     "metadata": {},
     "output_type": "execute_result"
    }
   ],
   "source": [
    "cm=confusion_matrix(y_test, y_predict)\n",
    "cm"
   ]
  },
  {
   "cell_type": "code",
   "execution_count": 62,
   "metadata": {},
   "outputs": [
    {
     "data": {
      "text/plain": [
       "[0.6923076923076923,\n",
       " 0.6923076923076923,\n",
       " 0.6923076923076923,\n",
       " 0.6923076923076923,\n",
       " 0.46153846153846156,\n",
       " 0.6923076923076923]"
      ]
     },
     "execution_count": 62,
     "metadata": {},
     "output_type": "execute_result"
    }
   ],
   "source": [
    "true_pred=cm[0,0]+cm[1,1]+cm[2,2]\n",
    "total_pred=y_test.size\n",
    "accuracy=true_pred/total_pred\n",
    "precision.append(accuracy)\n",
    "precision"
   ]
  },
  {
   "cell_type": "markdown",
   "metadata": {},
   "source": [
    "### 7. Random Forest Classification"
   ]
  },
  {
   "cell_type": "code",
   "execution_count": 63,
   "metadata": {},
   "outputs": [],
   "source": [
    "from sklearn.ensemble import RandomForestClassifier"
   ]
  },
  {
   "cell_type": "code",
   "execution_count": 64,
   "metadata": {},
   "outputs": [
    {
     "data": {
      "text/plain": [
       "RandomForestClassifier(bootstrap=True, ccp_alpha=0.0, class_weight=None,\n",
       "                       criterion='entropy', max_depth=None, max_features='auto',\n",
       "                       max_leaf_nodes=None, max_samples=None,\n",
       "                       min_impurity_decrease=0.0, min_impurity_split=None,\n",
       "                       min_samples_leaf=1, min_samples_split=2,\n",
       "                       min_weight_fraction_leaf=0.0, n_estimators=10,\n",
       "                       n_jobs=None, oob_score=False, random_state=0, verbose=0,\n",
       "                       warm_start=False)"
      ]
     },
     "execution_count": 64,
     "metadata": {},
     "output_type": "execute_result"
    }
   ],
   "source": [
    "classifier = RandomForestClassifier(n_estimators = 10, criterion = 'entropy', random_state = 0)\n",
    "classifier.fit(X_train, y_train)"
   ]
  },
  {
   "cell_type": "code",
   "execution_count": 65,
   "metadata": {},
   "outputs": [],
   "source": [
    "y_predict=classifier.predict(X_test)"
   ]
  },
  {
   "cell_type": "code",
   "execution_count": 66,
   "metadata": {},
   "outputs": [
    {
     "data": {
      "text/plain": [
       "array([[6, 3, 0],\n",
       "       [1, 0, 0],\n",
       "       [2, 1, 0]], dtype=int64)"
      ]
     },
     "execution_count": 66,
     "metadata": {},
     "output_type": "execute_result"
    }
   ],
   "source": [
    "cm=confusion_matrix(y_test,y_pred)\n",
    "cm"
   ]
  },
  {
   "cell_type": "code",
   "execution_count": 67,
   "metadata": {},
   "outputs": [
    {
     "data": {
      "text/plain": [
       "[0.6923076923076923,\n",
       " 0.6923076923076923,\n",
       " 0.6923076923076923,\n",
       " 0.6923076923076923,\n",
       " 0.46153846153846156,\n",
       " 0.6923076923076923,\n",
       " 0.46153846153846156]"
      ]
     },
     "execution_count": 67,
     "metadata": {},
     "output_type": "execute_result"
    }
   ],
   "source": [
    "true_pred=cm[0,0]+cm[1,1]+cm[2,2]\n",
    "total_pred=y_test.size\n",
    "accuracy=true_pred/total_pred\n",
    "precision.append(accuracy)\n",
    "precision"
   ]
  },
  {
   "cell_type": "markdown",
   "metadata": {},
   "source": [
    "#### Tabla de precisión de los algoritmo de clasificación"
   ]
  },
  {
   "cell_type": "code",
   "execution_count": 68,
   "metadata": {},
   "outputs": [],
   "source": [
    "algoritmos=['logistic reg','kNN','SVM', 'Kernel SVM','Naive bayes', 'Decision Tree', 'Random Forest']\n",
    "algoritmos=np.array(algoritmos).reshape(7,1)\n",
    "precision=np.array(precision).reshape(7,1)"
   ]
  },
  {
   "cell_type": "code",
   "execution_count": 69,
   "metadata": {},
   "outputs": [
    {
     "data": {
      "text/html": [
       "<div>\n",
       "<style scoped>\n",
       "    .dataframe tbody tr th:only-of-type {\n",
       "        vertical-align: middle;\n",
       "    }\n",
       "\n",
       "    .dataframe tbody tr th {\n",
       "        vertical-align: top;\n",
       "    }\n",
       "\n",
       "    .dataframe thead th {\n",
       "        text-align: right;\n",
       "    }\n",
       "</style>\n",
       "<table border=\"1\" class=\"dataframe\">\n",
       "  <thead>\n",
       "    <tr style=\"text-align: right;\">\n",
       "      <th></th>\n",
       "      <th>Algoritmo</th>\n",
       "      <th>Precisión</th>\n",
       "    </tr>\n",
       "  </thead>\n",
       "  <tbody>\n",
       "    <tr>\n",
       "      <th>0</th>\n",
       "      <td>logistic reg</td>\n",
       "      <td>0.692308</td>\n",
       "    </tr>\n",
       "    <tr>\n",
       "      <th>1</th>\n",
       "      <td>kNN</td>\n",
       "      <td>0.692308</td>\n",
       "    </tr>\n",
       "    <tr>\n",
       "      <th>2</th>\n",
       "      <td>SVM</td>\n",
       "      <td>0.692308</td>\n",
       "    </tr>\n",
       "    <tr>\n",
       "      <th>3</th>\n",
       "      <td>Kernel SVM</td>\n",
       "      <td>0.692308</td>\n",
       "    </tr>\n",
       "    <tr>\n",
       "      <th>4</th>\n",
       "      <td>Naive bayes</td>\n",
       "      <td>0.461538</td>\n",
       "    </tr>\n",
       "    <tr>\n",
       "      <th>5</th>\n",
       "      <td>Decision Tree</td>\n",
       "      <td>0.692308</td>\n",
       "    </tr>\n",
       "    <tr>\n",
       "      <th>6</th>\n",
       "      <td>Random Forest</td>\n",
       "      <td>0.461538</td>\n",
       "    </tr>\n",
       "  </tbody>\n",
       "</table>\n",
       "</div>"
      ],
      "text/plain": [
       "       Algoritmo  Precisión\n",
       "0   logistic reg   0.692308\n",
       "1            kNN   0.692308\n",
       "2            SVM   0.692308\n",
       "3     Kernel SVM   0.692308\n",
       "4    Naive bayes   0.461538\n",
       "5  Decision Tree   0.692308\n",
       "6  Random Forest   0.461538"
      ]
     },
     "execution_count": 69,
     "metadata": {},
     "output_type": "execute_result"
    }
   ],
   "source": [
    "tabla1=pd.DataFrame({'Algoritmo': algoritmos[:, 0], 'Precisión': precision[:, 0]})\n",
    "tabla1"
   ]
  },
  {
   "cell_type": "markdown",
   "metadata": {},
   "source": [
    "## Discusión de resultados"
   ]
  },
  {
   "cell_type": "markdown",
   "metadata": {},
   "source": [
    "Vemos que K-Means no pudo generar tres grupos que correspondieran al número de casos que hay en un municipio, que pudieran ser muchos casos, varios casos o pocos casos. Esto lo podemos apreciar porque la forma en que K-Means pintó el espacio de los atributos socioeconómicos fue diferente a la gráfica 3D de las categorías. \n",
    "\n",
    "La precisión de los algortimos de aprendizaje supervisado no fue demasiado baja pero tampoco fue alta. Esperamos que aumentando el número de características, considerando parametros físicos como la temperatura y la precipitación, estos resultados mejoren. \n",
    "\n",
    "Cabe mencionar que el hecho de que la precisión de cada uno de los algoritmos no haya sido tan mala puede ser producto del desbalance de nuestros datos, pues la mayoría de los datos pertenecen a una categoria (muy pocos casos), por lo que podría ser más por probabilidad que el algoritmo predice que un dato pertenece a la categoria 0. Esto lo podremos solucionar más adelante al considerar los datos de otros estados de México o de otras partes del mundo. "
   ]
  }
 ],
 "metadata": {
  "kernelspec": {
   "display_name": "Python 3",
   "language": "python",
   "name": "python3"
  },
  "language_info": {
   "codemirror_mode": {
    "name": "ipython",
    "version": 3
   },
   "file_extension": ".py",
   "mimetype": "text/x-python",
   "name": "python",
   "nbconvert_exporter": "python",
   "pygments_lexer": "ipython3",
   "version": "3.7.6"
  }
 },
 "nbformat": 4,
 "nbformat_minor": 4
}
